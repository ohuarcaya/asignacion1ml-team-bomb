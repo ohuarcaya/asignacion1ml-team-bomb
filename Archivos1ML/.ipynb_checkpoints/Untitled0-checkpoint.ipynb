{
 "metadata": {
  "name": "",
  "signature": "sha256:763b123731b838cec9ce1878fc5fce1fee73cbe5687c06a2e3b9f53f1c86492b"
 },
 "nbformat": 3,
 "nbformat_minor": 0,
 "worksheets": [
  {
   "cells": [
    {
     "cell_type": "markdown",
     "metadata": {},
     "source": [
      "#### Respuesta\n",
      "Los modelos de regresi\u00f3n lineal son la relacion de una variable end\u00f3gena(explicada) y una variable ex\u00f3gena(explicativa), la variable end\u00f3gena viene a ser la variable respuesta, pero estas se relacionan con la variable ex\u00f3gena la cual puede ser solo una variable o varias, siendo para el primer caso una regresi\u00f3n lineal y para el otro una regresi\u00f3n lineal multiple,  donde a su vez tambien esta los modelos regresion polinomial y regresi\u00f3n logistica entre otros modelos; todos estos modelos son casos especiales del modelo lineal generalizado, y estan desarrollados en Scikit Learn.\n",
      " \n",
      "El objetivo de los problemas de regresi\u00f3n es predecir el valor de una variable de respuesta continua.\n",
      " \n",
      "##### Regresion lineal :\n",
      "* sklearn.linear_model.LinearRegression :\n",
      "    Es un estimador, siendo este el que predice los valores con respecto a los data observada.\n",
      " \n",
      "* fit() y predict() :\n",
      "    En scikit-learn todos los estimadores tienen implementado los m\u00e9todos fit() y predict(); siendo el uso del primero para conocer los par\u00e1metros del modelo y el segundo para predecir el valor de una variable end\u00f3gena (variable respuesta).\n",
      "  \n",
      "En el siguiente ejemplo usamos la  https://archive.ics.uci.edu/ml/datasets/Wine, utilizamos la funcion train_test_split funcion que divide los datos en conjuntos de entrenamiento y prueba, donde por defecto se coge el 25% para la prueba.\n",
      " \n",
      "El modelo que usa es minimos cuadrados ordinarios o lineal menos cuadrados. El r-squared mide cuan bien los valores observados de las variables respuesta se explica por el modelo."
     ]
    },
    {
     "cell_type": "code",
     "collapsed": false,
     "input": [
      "from sklearn.linear_model import LinearRegression\n",
      "import pandas as pd\n",
      "import matplotlib.pylab as plt\n",
      "from sklearn.cross_validation import train_test_split\n",
      "\n",
      "wine = pd.read_csv('winequality-red.csv')\n",
      "wine.head()\n",
      "wine.describe()\n",
      "\n",
      "\n",
      "%matplotlib inline\n",
      "import matplotlib.pylab as pltfor i in X:\n",
      "    print i\n",
      "    plt.scatter(df[i], wine['quality'])\n",
      "    plt.show()"
     ],
     "language": "python",
     "metadata": {},
     "outputs": [
      {
       "ename": "SyntaxError",
       "evalue": "invalid syntax (<ipython-input-16-56c47a679d8c>, line 12)",
       "output_type": "pyerr",
       "traceback": [
        "\u001b[0;36m  File \u001b[0;32m\"<ipython-input-16-56c47a679d8c>\"\u001b[0;36m, line \u001b[0;32m12\u001b[0m\n\u001b[0;31m    import matplotlib.pylab as pltfor i in X:\u001b[0m\n\u001b[0m                                      ^\u001b[0m\n\u001b[0;31mSyntaxError\u001b[0m\u001b[0;31m:\u001b[0m invalid syntax\n"
       ]
      }
     ],
     "prompt_number": 16
    },
    {
     "cell_type": "code",
     "collapsed": false,
     "input": [
      "X = df[list(df.columns)[:-1]]\n",
      "y = df['quality']\n",
      "X_train, X_test, y_train, y_test = train_test_split(X, y)\n",
      "\n",
      "regressor = LinearRegression()\n",
      "regressor.fit(X_train, y_train)\n",
      "y_predictions = regressor.predict(X_test)\n",
      " print 'R-squared:', regressor.score(X_test, y_test)"
     ],
     "language": "python",
     "metadata": {},
     "outputs": []
    }
   ],
   "metadata": {}
  }
 ]
}