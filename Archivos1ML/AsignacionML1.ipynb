{
 "metadata": {
  "kernelspec": {
   "display_name": "Python 3",
   "language": "python",
   "name": "python3"
  },
  "language_info": {
   "codemirror_mode": {
    "name": "ipython",
    "version": 3
   },
   "file_extension": ".py",
   "mimetype": "text/x-python",
   "name": "python",
   "nbconvert_exporter": "python",
   "pygments_lexer": "ipython3",
   "version": "3.6.1"
  },
  "name": "",
  "signature": "sha256:3ea7d3ce9291cc785cbc7d59b0786d47044115801bd09cc3a2b1931858759c61"
 },
 "nbformat": 3,
 "nbformat_minor": 0,
 "worksheets": [
  {
   "cells": [
    {
     "cell_type": "markdown",
     "metadata": {},
     "source": [
      "# Asignaci\u00f3n 1\n",
      "\n",
      "Todos los asignaciones ser\u00e1n presentadas utilizando los cuadernos de [Jupyter Notebook](http://jupyter.org/), adem\u00e1s de respectivas pruebas como ejemplo, as\u00ed como el uso de mediciones de velocidad de ejecuci\u00f3n utilizando  el comando `timeit` y algunos gr\u00e1ficos si fuese necesario.\n",
      "\n",
      "Las referencias a los ejercicios son :\n",
      "\n",
      "* David Barber, [Bayesian Reasoning and Machine Learning](http://web4.cs.ucl.ac.uk/staff/D.Barber/pmwiki/pmwiki.php?n=Brml.Online),  Cambridge University Press, 2017.\n",
      "\n",
      "* Pattern Recognition and Machine Learning de Chris Bishop 2006.\n",
      "\n",
      "* Machine Learning Refined, Watt, Borhani, Katsaggelos 2016."
     ]
    },
    {
     "cell_type": "heading",
     "level": 2,
     "metadata": {
      "collapsed": true
     },
     "source": [
      "Lista de ejercicios"
     ]
    },
    {
     "cell_type": "markdown",
     "metadata": {},
     "source": [
      "1 . Imaginemos  que tenemos dos posibilidades: podemos escanear y enviar por correo electr\u00f3nico una imagen, o podemos usar un lector \u00f3ptico de caracteres (OCR) y enviar el archivo de texto. Discute las ventaja y las desventajas de los dos enfoques de manera comparativa. \u00bfCu\u00e1ndo uno ser\u00eda preferible al otro?."
     ]
    },
    {
     "cell_type": "markdown",
     "metadata": {
      "collapsed": true
     },
     "source": [
      "\n",
      "#### Respuesta:\n",
      "\n",
      "OCR es una herramienta muy \u00fatil, pero como toda tecnolog\u00eda tiene sus limitaciones.\n",
      "\n",
      "Cuando se trata de enviar imagen (IMG) o texto escaneado con OCR (OCRtext), la ventaja de uno respecto \n",
      "a otro depender\u00e1 mucho del uso que se de al contenido.\n",
      "\n",
      "1. Si la imagen contiene mucho texto y el receptor requiere hacer b\u00fasquedas, lo m\u00e1s veloz y eficiente\n",
      "ser\u00e1 enviar OCRtext.\n",
      "\n",
      "2. Si se requiere agregar informaci\u00f3n adicional y/o editar la informaci\u00f3n que contenga la imagen, lo m\u00e1s\n",
      "conveniente ser\u00e1 enviar OCRtext\n",
      "\n",
      "3. Si el contenido del texto est\u00e1 hecho a mano, lo m\u00e1s conveniente ser\u00e1 enviar IMG, puesto que ocr no \n",
      "tiene buen rendimiento con manuscritos.\n",
      "\n",
      "4. Si es alg\u00fan tipo de documento que necesita hacer, o si accidentalmente se borr\u00f3 el archivo digital,\n",
      "escaneando el original con OCR se ahorra esfuerzo y tiempo.\n",
      "\n",
      "5. Si la tipograf\u00eda es variada, es decir si existen m\u00e1s de un idioma (ingl\u00e9s y japones x ejmplo), \n",
      "la tipograf\u00eda ser\u00eda un problema para este caso conviene IMG.\n",
      "\n",
      "6. Si el texto contenido en la imagen es muy varicolor, para usar OCR se tiene que llevar a escala de grises,\n",
      "y si en escala de grises no se distingue el texto como deber\u00eda ser\u00eda mejor IMG.\n",
      "\n",
      "7. Si la im\u00e1gen no tiene buena calidad, o si el texto es muy peque\u00f1o. Entonces conviene enviar la IMG.\n",
      "\n",
      "8. Si en la im\u00e1gen hay un gr\u00e1fico de mucho importancia adem\u00e1s del texto, conviene enviar IMG.\n",
      "\n",
      "Como es de notar existen varios casos hipot\u00e9ticos, el uso o no de OCR depende mucho del uso que se d\u00e9.\n",
      " "
     ]
    },
    {
     "cell_type": "markdown",
     "metadata": {},
     "source": [
      "2 .Digamos que estamos construyendo un OCR y para cada car\u00e1cter, almacenamos el mapa de bits de ese car\u00e1cter como una plantilla que coincida con el car\u00e1cter de lectura p\u00edxel a p\u00edxel. Explica cu\u00e1ndo fallar\u00eda un sistema de este tipo. \u00bfPor qu\u00e9 se siguen utilizando los lectores de c\u00f3digos de barras?"
     ]
    },
    {
     "cell_type": "markdown",
     "metadata": {
      "collapsed": true
     },
     "source": [
      "\n",
      "#### Respuesta:\n",
      "\n",
      "1. EL error se genera cuando se haga reconocimiento de escritura sea a mano, pues hay muchos tipos de escritura,\n",
      "cada persona escribe de forma, tama\u00f1o y estilo diferente.\n",
      "2. El error tambi\u00e9n se genera cuando no se usan letras contenidas en el alfabeto propuesto, o una mezcla de ambos.\n",
      "Es decir si el texto contiene idiomas con otros alfabetos o simbolos ajenos al alfabeto.\n",
      "\n",
      "Codigo de barras se siguen utilizando por que mantienen un estandar, es el mismo para diferentes culturas.\n",
      "Adem\u00e1s de ello son m\u00e1s baratos y f\u00e1ciles de usar y lo m\u00e1s importante es que eliminan la posibilidad de error humano\n",
      "haci\u00e9ndolo m\u00e1s \u00e1gil.\n",
      "\n"
     ]
    },
    {
     "cell_type": "markdown",
     "metadata": {},
     "source": [
      "3 . Supongamos que se nos da la tarea de construir un sistema para distinguir correo basura. \u00bfQu\u00e9 hay en un correo basura que nos permite saber que es basura? \u00bfC\u00f3mo puede la computadora detectar la basura mediante un an\u00e1lisis sint\u00e1ctico? \u00bfQu\u00e9 nos gustar\u00eda que hiciera la computadora si detecta un correo electr\u00f3nico no deseado: eliminarlo autom\u00e1ticamente, moverlo a un archivo diferente o simplemente resaltarlo en la pantalla?"
     ]
    },
    {
     "cell_type": "markdown",
     "metadata": {
      "collapsed": true
     },
     "source": [
      "#### Respuesta:\n",
      "\n",
      "Existen muchos factores que juegan un papel importante al momento de identificar si un correo es basura o no, \n",
      "como pueden ser ciertas palabras, caracteres, direcciones IP, el remitente que env\u00edo el correo, etc.\n",
      "\n",
      "Disponiendo de una base de datos un filtro computacional podr\u00e1 actuar para clasificar un correo como spam o no.\n",
      "Cuando se recibe un nuevo correo, el an\u00e1lisis consiste en descomponer el texto en palabras y se seleccionan \n",
      "las m\u00e1s relevantes, las cuales el filtro procesar\u00e1 calculando la probabilidad de que el correo que hemos recibido\n",
      "sea spam o no.Si la probabilidad supera un umbral establecido se considerar\u00e1 spam. \n",
      "\n",
      "Lo ideal al momento de detectar un correo basura, ser\u00eda aprovechar este resultado de alguna manera, por ello no ser\u00eda\n",
      "conveniente eliminarlo, aunque sea la primera idea que cualquier persona desear\u00eda considerar, ya que se estar\u00eda \n",
      "descartando ciertos patrones encontrados al momento de analizar el correo y los cuales lo clasifican como un spam.\n",
      "Por lo tanto la decisi\u00f3n correcta ser\u00eda clasificarlo como correo basura y el sistema aprenda de esta manera analizando \n",
      "el correo nuevamente como buscar la cantidad de veces que aparece una palabra en dicho correo y que sirva como un patr\u00f3n\n",
      "para una futura toma de decisiones.\n",
      "\n"
     ]
    },
    {
     "cell_type": "markdown",
     "metadata": {},
     "source": [
      "4 .Digamos que se nos da la tarea de construir un taxi automatizado. Define las restricciones. \u00bfCu\u00e1les son las entradas? \u00bfCu\u00e1l es la salida? \u00bfC\u00f3mo podemos comunicarnos con el pasajero? \u00bfNecesitamos comunicarnos con los otros taxis automatizados, es decir, necesitamos un \"lenguaje\"?"
     ]
    },
    {
     "cell_type": "markdown",
     "metadata": {
      "collapsed": true
     },
     "source": [
      "#### Respuesta:\n",
      "\n",
      "Si se desear\u00eda construir un sistema de taxi automatizado se deber\u00eda tener en cuenta ciertos factores como la\n",
      "evaluaci\u00f3n de la condici\u00f3n del conductor o la clasificaci\u00f3n de escenarios de conducci\u00f3n a trav\u00e9s de la fusi\u00f3n\n",
      "de datos de diferentes sensores externos e internos, como lidares, radares, c\u00e1maras o el IoT (Internet of Things).\n",
      "En particular un taxi automatizado deber\u00eda ser capaz de recoger a un pasajero y conducirlo a un destino.\n",
      "Deber\u00eda tener alg\u00fan sistema de posicionamiento (GPS / GIS) y debe tener otros sensores (c\u00e1maras) para poder detectar\n",
      "coches, peatones, obst\u00e1culos en el camino, etc. La salida debe ser la secuencia de acciones para llegar al destino\n",
      "en el menor tiempo posible con ning\u00fan inconveniente para el pasajero.\n",
      "El taxi automatizado necesitar\u00eda comunicarse con el pasajero para recibir instrucciones y tambi\u00e9n puede tener\n",
      "que interactuar con otros taxis automatizados para intercambiar informaci\u00f3n sobre el tr\u00e1fico vial o la programaci\u00f3n,\n",
      "balanceo de carga, etc.\n",
      "\n"
     ]
    },
    {
     "cell_type": "markdown",
     "metadata": {},
     "source": [
      "5 .En el an\u00e1lisis de la cesta  de la compra, queremos encontrar la dependencia entre dos elementos X e Y. Dada una base de datos de transacciones de clientes, \u00bfc\u00f3mo podemos encontrar estas dependencias? \u00bfC\u00f3mo generalizar\u00edamos esto a m\u00e1s de dos \u00edtems?"
     ]
    },
    {
     "cell_type": "markdown",
     "metadata": {
      "collapsed": true
     },
     "source": [
      "#### Respuesta:\n",
      "\n",
      "En el an\u00e1lisis de cesta de compra, donde deseamos encontrar la dependencia entre dos items \"X\" y \"Y\", se debe considerar\n",
      "lo que se conoce como reglas de asociaci\u00f3n, la cual es una implicaci\u00f3n de la forma X -> Y y que define la relaci\u00f3n entre\n",
      "dos conjuntos de elementos que no tienen elementos en com\u00fan y que significa que si tenemos un item X en una transacci\u00f3n\n",
      "(llamese transacci\u00f3n a un conjunto de elementos no nulos identificados con un id \u00fanico) entonces podemos tener Y en la\n",
      "misma transacci\u00f3n, adem\u00e1s debemos definir dos t\u00e9rminos importantes:\n",
      "Confianza de una regla X -> Y :\n",
      "\n",
      "Confianza $(X -> Y) = P(Y|X) = P(X,Y)/P(X)$ = (#Clientes que compraron X e Y)/(#Clientes que compraron X)\n",
      "\n",
      "Soporte de una regla $X -> Y$ :\n",
      "\n",
      "Soporte $(X -> Y) = P(X,Y) = (#Clientes que compraron X e Y)/(#Clientes)$\n",
      "\n",
      "Para ser capaces de decir que la regla se cumple con suficiente confianza, este valor debe ser cercano al valor de 1\n",
      "y suficientemente m\u00e1s largo que P(Y), la probabilidad promedio que compra el item Y. Adem\u00e1s estamos interesados en \n",
      "maximizar el soporte de la regla, ya que si incluso hubiera una dependencia con una gran valor de confianza, si el \n",
      "n\u00famero de tales clientes es peque\u00f1o, la regla ser\u00eda in\u00fatil. EL soporte indica la importancia estad\u00edstica de la regla \n",
      "mientras que la confianza indica la fuerza de la regla. Los valores m\u00ednimos de la confianza y soporte son establecidos \n",
      "por la compa\u00f1ia, y todas las reglas con altos valores de confianza y soporte son buscados en la base de datos.\n",
      "Luego, estas f\u00f3rmulas para el c\u00e1lculo de la confianza y el soporte de una regla pueden ser generalizadas para m\u00e1s de \n",
      "dos items, donde X e Y son dos conjuntos disjuntos de items, digamos por ejemplo que P(Y|X,Z) es un conjunto de tres\n",
      "items m\u00e1s importante que un conjunto de dos items. Debido a que una base de datos de ventas es generalmente grande, \n",
      "se desea encontrar las dependencias entre los items recorriendo la base de datos el menor n\u00famero de veces posibles.\n",
      "\n"
     ]
    },
    {
     "cell_type": "markdown",
     "metadata": {},
     "source": [
      "6 .En un peri\u00f3dico , encuentra cinco ejemplos de noticias para cada categor\u00eda de pol\u00edtica, deportes y artes. Revisa estos informes y encuentra las palabras que se usan frecuentemente para cada categor\u00eda, lo que te puede ayudarle a discriminar entre diferentes categor\u00edas.\n",
      "\n",
      "Por ejemplo, es probable que un reportaje sobre pol\u00edtica incluya palabras como *gobierno*, *recesi\u00f3n*, *congreso*, etc., mientras que un reportaje sobre las artes puede incluir *\u00e1lbum*, *lienzo* o *teatro* . Tambi\u00e9n hay palabras como *meta* que son ambiguas."
     ]
    },
    {
     "cell_type": "markdown",
     "metadata": {
      "collapsed": true
     },
     "source": [
      "#### Respuesta:\n",
      "Para este ejercicio usaremos la herramienta conocidas en **web scraping**, para que nuestro analisis de las palabras mas frecuentes se el mejor, entonces usaremos distintas paginas web de noticieros para ser su analisis.\n",
      "Aqui se podra implementar un codigo en lenguaje **python**(***3.6.1***) de tal manera que valiendonos de algunas librerias esto sera posible, a la vez suprimiendo palabras repetidas frecuente en el lenguaje espa\u00f1ol segun la ***RAE*** ya que estas palabras no aportan significado a nuestro analisis.\n"
     ]
    },
    {
     "cell_type": "code",
     "collapsed": false,
     "input": [
      "#librerias a importar\n",
      "import re\n",
      "import operator\n",
      "import matplotlib.pyplot as plt\n",
      "import urllib.request as ur\n",
      "from bs4 import BeautifulSoup as bs\n",
      "\n",
      "print(\"Mensaje -> Librerias importadas con exito!\")"
     ],
     "language": "python",
     "metadata": {},
     "outputs": [
      {
       "output_type": "stream",
       "stream": "stdout",
       "text": [
        "Mensaje -> Librerias importadas con exito!\n"
       ]
      }
     ],
     "prompt_number": 5
    },
    {
     "cell_type": "code",
     "collapsed": false,
     "input": [
      "# Utilizaremos una lista de las palabras\n",
      "# m\u00e1s usadas en el lenguaje Espa\u00f1ol como articulos \"el, la, ..., etc\"\n",
      "# Escogeremos una lista de las 100 primeras palabras m\u00e1s se usan segun la Real Lengua Espa\u00f1ola.\n",
      "# Fuente usada: http://corpus.rae.es/frec/1000_formas.TXT\n",
      "pFrec = [\n",
      " 'de','la','que','el','en','y','a','los','se','del',\n",
      " 'las','un','por','con','no','una','su','para','es','al',\n",
      " 'lo','como','m\u00e1s','o','pero','sus','le','ha','me','si',\n",
      " 'sin','sobre','este','ya','entre','cuando','todo','esta','ser','son',\n",
      " 'dos','tambi\u00e9n','fue','hab\u00eda','era','muy','a\u00f1os','hasta','desde','est\u00e1',\n",
      " 'mi','porque','qu\u00e9','s\u00f3lo','han','yo','hay','vez','puede','todos',\n",
      " 'as\u00ed','nos','ni','parte','tiene','\u00e9l','uno','donde','bien','tiempo',\n",
      " 'mismo','ese','ahora','cada','e','vida','otro','despu\u00e9s','te','otros',\n",
      " 'aunque ','esa','eso','hace','otra','gobierno','tan','durante','siempre','d\u00eda',\n",
      " 'tanto','ella','tres','s\u00ed','dijo','sido','gran','pa\u00eds','seg\u00fan','menos']\n",
      "\n",
      "print(\"Mensaje -> Creacion de la lista de palabras mas usadas con exito!\")"
     ],
     "language": "python",
     "metadata": {},
     "outputs": [
      {
       "output_type": "stream",
       "stream": "stdout",
       "text": [
        "Mensaje -> Creacion de la lista de palabras mas usadas con exito!\n"
       ]
      }
     ],
     "prompt_number": 17
    },
    {
     "cell_type": "code",
     "collapsed": false,
     "input": [
      "# Extraer el texto que nos importa del html\n",
      "def extraerPalabrasImportantes(enlace):\n",
      "    html=ur.urlopen(enlace) # abrimos el contenido\n",
      "    cont_html = bs(html,\"html.parser\") # parseamos el html\n",
      "    texto=\"\"\n",
      "    # rescatamos las secciones del html con la etiqueta que nos importa para almacenarla en \"texto\"\n",
      "    for p in cont_html.findAll('p'):\n",
      "        texto+=p.text.lower()\n",
      "        texto+=\" \"\n",
      "    listaPalabras = re.findall(r'\\w+',texto)  # extraemos todas las palabras encontradas\n",
      "    listaPalabras = [w for w in listaPalabras if w not in pFrec] # excluimos las palabras mas usadas segun la RAE\n",
      "    return listaPalabras\n",
      "\n",
      "print(\"Mensaje -> Creacion de la funcion: extraerPalabrasImportantes - con exito!\")"
     ],
     "language": "python",
     "metadata": {},
     "outputs": [
      {
       "output_type": "stream",
       "stream": "stdout",
       "text": [
        "Mensaje -> Creacion de la funcion: extraerPalabrasImportantes - con exito!\n"
       ]
      }
     ],
     "prompt_number": 9
    },
    {
     "cell_type": "code",
     "collapsed": false,
     "input": [
      "# Extraer las palabras mas usadas de nuestra pagina  (solo extraeremos los 20 mas repetidos en nuestra lista)\n",
      "def topListaPalabas(listaPalabras,n):\n",
      "    dict = {} # crearemos un diccionario en python\n",
      "    # identificamos las palabras para ser agregadas al diccionario y que tenga la forma (key=palabra, value=cant. repeticiones)\n",
      "    for palabra in listaPalabras: \n",
      "        try:\n",
      "            dict[palabra]+=1\n",
      "        except KeyError:\n",
      "            dict[palabra]=1\n",
      "    \n",
      "    lista_sort = sorted(dict.items(),key=operator.itemgetter(1)) # ordenamos el diccionario conviritiendo en una lista\n",
      "    lista_sort.reverse() # ordenamos de mayor a menor\n",
      "    return lista_sort[:n] # retornamos solo los 20 primeros\n",
      "\n",
      "print(\"Mensaje -> Creacion de la funcion: topListaPalabras - con exito!\")"
     ],
     "language": "python",
     "metadata": {},
     "outputs": [
      {
       "output_type": "stream",
       "stream": "stdout",
       "text": [
        "Mensaje -> Creacion de la funcion: topListaPalabras - con exito!\n"
       ]
      }
     ],
     "prompt_number": 15
    },
    {
     "cell_type": "code",
     "collapsed": false,
     "input": [
      "# Extraer la informacion que se creo del diccionario(se pasa el diccionario convertido a lista ordenado) creado en dos listas\n",
      "def lista2_Extraer(topListaPalabras):\n",
      "    # accedemos a nuestro lista de palabras top formado por tuplas (palabra, cant.repeticiones)\n",
      "    x = [(topListaPalabras[i][0]) for i in range(len(topListaPalabras))]\n",
      "    y = [(topListaPalabras[i][1]) for i in range(len(topListaPalabras))]\n",
      "    return x,y # retornamos la lista de palabras \"x\" y la lista de cant. repeticiones \"y\"\n",
      "\n",
      "print(\"Mensaje -> Creacion de la funcion: lista2_Extraer - con exito!\")"
     ],
     "language": "python",
     "metadata": {},
     "outputs": [
      {
       "output_type": "stream",
       "stream": "stdout",
       "text": [
        "Mensaje -> Creacion de la funcion: lista2_Extraer - con exito!\n"
       ]
      }
     ],
     "prompt_number": 11
    },
    {
     "cell_type": "code",
     "collapsed": false,
     "input": [
      "# Funcion para la creacion del grafico respectivo\n",
      "def graficar(x,y,listaP,tituloGrafico):\n",
      "    plt.bar(range(len(x)), y, align=\"center\",color='b') # formamos las barras\n",
      "    plt.xticks(range(len(listaP)),x,rotation=90) # a\u00f1adimos formato a nuestro grafico X vs Y \n",
      "    plt.title(tituloGrafico,bbox={\"facecolor\":\"0.8\", \"pad\":5},fontsize = 20) # a\u00f1adimos formato de titulo a nuestro grafico XvsY\n",
      "    plt.show() # mostramos nuestro grafico final\n",
      "\n",
      "print(\"Mensaje -> Creacion de la funcion: graficas - con exito!\")"
     ],
     "language": "python",
     "metadata": {},
     "outputs": [
      {
       "output_type": "stream",
       "stream": "stdout",
       "text": [
        "Mensaje -> Creacion de la funcion: graficas - con exito!\n"
       ]
      }
     ],
     "prompt_number": 12
    },
    {
     "cell_type": "code",
     "collapsed": false,
     "input": [
      "# Integramos nuestras funciones en una sola de manera ordenada\n",
      "def ws(enlace,titulo_tipo):\n",
      "    listaPalabras=extraerPalabrasImportantes(enlace) # extraemos una lista de palabras usadas en la pagina web (enlace)\n",
      "    topLista = topListaPalabas(listaPalabras,20) # extraemos el top 20 de las palabras mas usadas en la pagina web (enlace)\n",
      "    x,y = lista2_Extraer(topLista) # extraemos dos listas separando las tuplas uno lista con las palabras y otra lista con sus frec.\n",
      "    graficar(x,y,topLista,titulo_tipo) # graficamos un histograma tomando las palabras y sus frecuencias.\n",
      "\n",
      "print(\"Mensaje -> Creacion de la funcion: ws - con exito!\")\n",
      "    "
     ],
     "language": "python",
     "metadata": {},
     "outputs": [
      {
       "output_type": "stream",
       "stream": "stdout",
       "text": [
        "Mensaje -> Creacion de la funcion: ws - con exito!\n"
       ]
      }
     ],
     "prompt_number": 14
    },
    {
     "cell_type": "code",
     "collapsed": false,
     "input": [
      "# 5 enlaces de noticias para analizar\n",
      "enlace_politica =  \"http://rpp.pe/politica\"\n",
      "enlace_deportes = \"http://rpp.pe/deportes\"\n",
      "enlace_cultura = \"http://rpp.pe/cultura\"\n",
      "enlace_economia = \"http://rpp.pe/economia\"\n",
      "enlace_ciencia = \"http://rpp.pe/ciencia\"\n",
      "\n",
      "# encontrando las palabras usadas con mayor frecuencia en los distintos tipo de noticias\n",
      "ws(enlace_politica,\"Noticias - Pol\u00edtica\")\n",
      "ws(enlace_deportes,\"Noticias - Deportes\")\n",
      "ws(enlace_cultura,\"Noticias - Cultura\")\n",
      "ws(enlace_economia,\"Noticias - Econom\u00eda\")\n",
      "ws(enlace_ciencia,\"Noticias - Ciencia\")\n",
      "\n",
      "print(\"Mensaje -> Creacion de graficos con exito!\")"
     ],
     "language": "python",
     "metadata": {
      "scrolled": true
     },
     "outputs": [
      {
       "metadata": {},
       "output_type": "display_data",
       "png": "[encoded data removed]",
       "text": [
        "<matplotlib.figure.Figure at 0x2c7e3441b70>"
       ]
      },
      {
       "metadata": {},
       "output_type": "display_data",
       "png": "[encoded data removed]",
       "text": [
        "<matplotlib.figure.Figure at 0x2c7e2e7ecf8>"
       ]
      },
      {
       "metadata": {},
       "output_type": "display_data",
       "png": "[encoded data removed]",
       "text": [
        "<matplotlib.figure.Figure at 0x2c7e2f40a90>"
       ]
      },
      {
       "metadata": {},
       "output_type": "display_data",
       "png": "[encoded data removed]",
       "text": [
        "<matplotlib.figure.Figure at 0x2c7e2ba4c18>"
       ]
      },
      {
       "metadata": {},
       "output_type": "display_data",
       "png": "[encoded data removed]",
       "text": [
        "<matplotlib.figure.Figure at 0x2c7e2d50dd8>"
       ]
      },
      {
       "output_type": "stream",
       "stream": "stdout",
       "text": [
        "Mensaje -> Creacion de graficos con exito!\n"
       ]
      }
     ],
     "prompt_number": 21
    },
    {
     "cell_type": "markdown",
     "metadata": {},
     "source": [
      "7 . Sea  una imagen de rostro es una imagen 100 x 100, o un vector de 10.000 dimensiones. Si cambiamos la imagen de un p\u00edxel a la derecha, este ser\u00e1 un vector muy diferente en el espacio de 10.000 dimensiones. \u00bfC\u00f3mo podemos construir reconocedores faciales que manejen a tales distorsiones?"
     ]
    },
    {
     "cell_type": "markdown",
     "metadata": {
      "collapsed": true
     },
     "source": [
      "#### Respuesta:\n",
      "Existen muchos algoritmos para trabajar estas distorciones uno rescatable en el uso de redes neuronales multicapa, dado que nuestra red puede aprender mediante entrenamiento caracteristicas especiales, mediante capas implementadas para un aprendizaje especifico, dado que al tener una imagen con distorcion nuestro modelo de reconocedor facil debe ser capaz de identificar o prevenir estas distorciones en el aprendizaje para futuras predicciones, nuestra red neuronal es capaz de identificar estas distorciones y mantenerlo como ruido en nuestro vector de imagen, rescatando esto nos damos cuenta que es necesario un modelo con solo caracteristicas importantes de nuestra imagen en nuestro caso un rostro, esta extraccion puede ser mediante modelos matematicos compactos, esto con el objetivo de excluir las distorciones en el aprendizaje, estas caracteristicas importantes como resumen de nuestra imagen son conocidas como descriptores, tenemos muchos tipos de descriptores donde su rendimiento se variable con respecto al tipo de problema al que nos enfrentemos, para estos descriptores podemos usar histogramas como ejemplo basico o tambien podemos usar SIFT(Scale-invariant feature transform) algoritmo para extraer estas caracteristicas importantes para nnuestro reconocedor facial, ahora para el proceso de clasificacion podemos usar tecnicas de **machine learning**, con metodos como regresion logistica y SVM(M\u00e1quinas de vectores de soporte) algoritmo de aprendizaje supervisado construyendo un hiperplano para la clasificacion de datos."
     ]
    },
    {
     "cell_type": "markdown",
     "metadata": {},
     "source": [
      "8 . Tomemos, por ejemplo, la palabra \"m\u00e1quina\". Escr\u00edbela diez veces. Tambi\u00e9n pide a un amigo de tu equipo que escriba la palabra  diez veces. Analizando estas veinte im\u00e1genes, trata de encontrar caracter\u00edsticas, tipos de trazos, curvaturas, bucles, c\u00f3mo hacer los puntos y as\u00ed sucesivamente, que discriminan su escritura a mano de la de su amigo."
     ]
    },
    {
     "cell_type": "markdown",
     "metadata": {
      "collapsed": true
     },
     "source": [
      "#### Respuesta:\n",
      "Se adjunta la imagen para su analisis. (\"Letra Derecha: Miguel. Letra Izquierda: Bitzer\")\n",
      "![Imagen](palabra_maquina.PNG \"Letra Derecha: Miguel. Letra Izquierda: Bitzer\")\n",
      "- Se logra notar ciertas diferencias pese a que ambos alumnos usan el mismo tipo de letra, como en la manera de escribir la letra \"m\" y la letra \"n\" siendo esta diferencia una de las notorias, donde se nota que el alumno miguel no tiende a completar una forma completa de la letra m a comparacion del otro alumno.\n",
      "- La forma de escribir la letra \"a\" en el alumno miguel tiende a ser mas ancha a comparacion de la letra \"a\" del alumno bitzer.\n",
      "- La forma de escribir la letra \"u\" en el alumno miguel es mas ancha a comparacion del otro alumno.\n",
      "- Se logra distinguir una tendencia del alumno miguel de escribir letras mas anchas, mas redondas al escribir a comparacion del alummno bitzer.\n",
      "\n",
      "En conclusion se puede decir que el alumno miguel usa curvas mas circulares al escribir y el alumno bitzer usa curvas mas alargadas, usa mas curvas ovaladas para escribir cada letra."
     ]
    },
    {
     "cell_type": "markdown",
     "metadata": {},
     "source": [
      "9 .Al estimar el precio de un autom\u00f3vil usado, tiene m\u00e1s sentido estimar el porcentaje de depreciaci\u00f3n sobre el precio original que estimar el precio absoluto. \u00bfPor qu\u00e9?"
     ]
    },
    {
     "cell_type": "markdown",
     "metadata": {
      "collapsed": true
     },
     "source": [
      "#### Respuesta:\n",
      "sabiendo que el precio de un automovil sufre una depreciaci\u00f3n que es menor al precio original $Precio_{original}>Precio_{Actual}$\n",
      "ademas sabiendo que $Depreciaci\u00f3n = Precio_{original}-Precio_{Actual}$, entonces el porcentaje de depreciacion tendra la siguiente forma: $\\%Dep =\\frac{Depreciaci\u00f3n}{Precio_{original}}100\\% = \\frac{Precio_{original}-Precio_{Actual}}{Precio_{original}}100\\%$ esto porcentaje con respecto al precio original, el porcentaje de depreciacion a lo largo del tiempo es calculable y predecible en una grafica $ \\%Dep$ $vs$ $Tiempo$ y se lograga ver el cambio y una probable curva de ajuste para $\\%Dep$, sin embargo el precio absoluto guardaria imprecicion en la prediccion del precio actual a lo largo del tiempo, dado que el precio absoluto no guardaria la exactitud de la curva de $\\%Dep$ para predecir el precio actual."
     ]
    },
    {
     "cell_type": "markdown",
     "metadata": {},
     "source": [
      "10 .Los investigadores de ML a menudo prueban sus algoritmos usando dominios p\u00fablicos de referencia. Un gran repositorio de tales dominios se puede encontrar en la siguiente direcci\u00f3n: [www.ics.uci.edu/~mlearn/MLRepository.html](www.ics.uci.edu/~mlearn/MLRepository.html). Echa un vistazo a estos datos y ver c\u00f3mo difieren en el n\u00famero de atributos, tipos de atributos, tama\u00f1os y as\u00ed sucesivamente."
     ]
    },
    {
     "cell_type": "markdown",
     "metadata": {},
     "source": [
      "11 .Escribe un programa  que usar\u00e1 la f\u00f3rmula de Bayes para calcular las probabilidades de clase en un dominio donde todos los atributos son discretos."
     ]
    },
    {
     "cell_type": "markdown",
     "metadata": {},
     "source": [
      "12 .\u00bfC\u00f3mo calcular\u00edas las probabilidades de las clases de salida en un dominio donde algunos atributos son booleanos, otros discretos y otros continuos? Discute las posibilidades de combinar diferentes enfoques. Para el caso de atributos continuos, escribe un programa  que acepte los ejemplos de entrenamiento en la forma de una tabla por ejemplo.\n",
      "\n",
      "Aplica este programa a unos pocos dominios de referencia del repositorio UCI (escoja de aquellos donde todos los atributos son continuos) y observe que el programa tiene \u00e9xito en algunos dominios mejor que en otros."
     ]
    },
    {
     "cell_type": "markdown",
     "metadata": {},
     "source": [
      "#### Respuesta:\n",
      "La soluci\u00f3n que se presenta a continuaci\u00f3n aplica para datos discretos y continuos (en el caso de booleano \n",
      "se pasa a binario 0|1 y se hace discreto), ya que aplica la media y varianza\n",
      "la fuente es la siguiente:\n",
      "https://es.wikipedia.org/wiki/Clasificador_bayesiano_ingenuo#Estimaci.C3.B3n_de_par.C3.A1metros_y_modelo_de_eventos"
     ]
    },
    {
     "cell_type": "code",
     "collapsed": false,
     "input": [
      "\n",
      "import numpy as np\n",
      "import pandas as pd\n",
      "names = [\"x1\",\"x2\",\"x3\",\"x4\",\"x5\",\"x6\",\"x7\",\"x8\",\"x9\",\"y\"]\n",
      "dataset = pd.read_csv(\"breast-cancer-wisconsin.data\", names = names)\n",
      "ldataset = len(dataset)\n",
      "# escogiendo un dato para hacer test de predicciones, las \u00faltimas 6 filas para este caso\n",
      "test = dataset.values[-6:,:]\n",
      "dataset = dataset.head(ldataset-6)\n",
      "ldataset = len(dataset)\n",
      "# en la quinta columna hay 16 filas con valor '?', extraigo esa data para limpiarla\n",
      "#filter_dataset = dataset[dataset[\"x6\"]!='?']    \n",
      "\n",
      "\"\"\"\n",
      " #  Attribute                     Domain\n",
      "   -- -----------------------------------------\n",
      "   1. Sample code number            id number ****** no lo tomo en cuenta\n",
      "   2. Clump Thickness               1 - 10\n",
      "   3. Uniformity of Cell Size       1 - 10\n",
      "   4. Uniformity of Cell Shape      1 - 10\n",
      "   5. Marginal Adhesion             1 - 10\n",
      "   6. Single Epithelial Cell Size   1 - 10\n",
      "   7. Bare Nuclei                   1 - 10\n",
      "   8. Bland Chromatin               1 - 10\n",
      "   9. Normal Nucleoli               1 - 10\n",
      "  10. Mitoses                       1 - 10\n",
      "  11. Class:                        (2 for benign, 4 for malignant)\n",
      "\"\"\"\n",
      "# funcion de densidad de probabilidad Gaussiana\n",
      "# prob(x) = 1/(\\sqrt(2*PI)*std_desv)*e^-((x-mean(x))^2/2*std_desv^2)\n",
      "# https://es.wikipedia.org/wiki/Clasificador_bayesiano_ingenuo#Estimaci.C3.B3n_de_par.C3.A1metros_y_modelo_de_eventos\n",
      "def calProb(x, mean, stdev):\n",
      "    return (1 / (np.sqrt(2*np.pi) * stdev)) * np.exp(-(np.power(x-mean,2)/(2*np.power(stdev,2))))\n",
      "\n",
      "# probabilidad de clase\n",
      "# ProbClase(class=2) = P(class=2)*P(x|class=2)\n",
      "# P(class=2) = len(class=2)/len(total)\n",
      "# P(x|class=2) = P(x1|class)*P(x2|class)*P(x3|class)...\n",
      "\n",
      "# Separando los benignos de malignos\n",
      "# P(class=2) | benign \n",
      "y_2 = dataset[dataset[\"y\"]==2]\n",
      "# P(class=4) | malignant\n",
      "y_4 = dataset[dataset[\"y\"]==4]\n",
      "\n",
      "# Requisitos para calProb (means and stdevs)\n",
      "p_2 = len(y_2)/ldataset # P(class=2)\n",
      "p_4 = len(y_4)/ldataset # P(class=4)\n",
      "mean_2 = np.mean(y_2) # medias cuando class = 2\n",
      "std_2 = np.std(y_2) # desviaciones cuando class = 2\n",
      "mean_4 = np.mean(y_4) # medias cuando class = 4\n",
      "std_4 = np.std(y_4) # desviaciones cuando class = 4\n",
      "\n",
      "# escogiendo un dato para hacer test de predicciones, las \u00faltimas 6 filas para este caso\n",
      "#test = dataset.values[-6:,:]\n",
      "for j in range(6):\n",
      "    print(\"Para test = \"+str(test[j]))\n",
      "    # Obteniendo prediccion\n",
      "    prob_2 = p_2\n",
      "    prob_4 = p_4\n",
      "    for i in range(dataset.shape[1]-1):\n",
      "        prob_2 = prob_2*calProb(test[j][i],mean_2[i],std_2[i])\n",
      "        prob_4 = prob_4*calProb(test[j][i],mean_4[i],std_4[i])\n",
      "\n",
      "    # Mostrando resultados\n",
      "    print(\"Probabilidad de que sea beningno: \"+str(prob_2/(prob_2+prob_4)))\n",
      "    print(\"Probabilidad de que sea maligno: \"+str(prob_4/(prob_2+prob_4)))\n",
      "    print(\"Valor real \"+str(test[j][-1]))\n",
      "    pred = \"2 Benigno\"\n",
      "    if prob_2<prob_4:\n",
      "        pred = \"4 Maligno\"\n",
      "    print(\"Valor predicho \"+pred+\"\\n\")\n"
     ],
     "language": "python",
     "metadata": {
      "scrolled": true
     },
     "outputs": [
      {
       "output_type": "stream",
       "stream": "stdout",
       "text": [
        "Para test = [3 1 1 1 2 1 2 1 2 2]\n",
        "Probabilidad de que sea beningno: 0.999999999055\n",
        "Probabilidad de que sea maligno: 9.44901047861e-10\n",
        "Valor real 2\n",
        "Valor predicho 2 Benigno\n",
        "\n",
        "Para test = [3 1 1 1 3 2 1 1 1 2]\n",
        "Probabilidad de que sea beningno: 0.999999999407\n",
        "Probabilidad de que sea maligno: 5.92841524667e-10\n",
        "Valor real 2\n",
        "Valor predicho 2 Benigno\n",
        "\n",
        "Para test = [2 1 1 1 2 1 1 1 1 2]\n",
        "Probabilidad de que sea beningno: 0.999999999945\n",
        "Probabilidad de que sea maligno: 5.52435730151e-11\n",
        "Valor real 2\n",
        "Valor predicho 2 Benigno\n",
        "\n",
        "Para test = [ 5 10 10  3  7  3  8 10  2  4]\n",
        "Probabilidad de que sea beningno: 1.07895676674e-67\n",
        "Probabilidad de que sea maligno: 1.0\n",
        "Valor real 4\n",
        "Valor predicho 4 Maligno\n",
        "\n",
        "Para test = [ 4  8  6  4  3  4 10  6  1  4]\n",
        "Probabilidad de que sea beningno: 2.30988791151e-33\n",
        "Probabilidad de que sea maligno: 1.0\n",
        "Valor real 4\n",
        "Valor predicho 4 Maligno\n",
        "\n",
        "Para test = [ 4  8  8  5  4  5 10  4  1  4]\n",
        "Probabilidad de que sea beningno: 1.11349811329e-38\n",
        "Probabilidad de que sea maligno: 1.0\n",
        "Valor real 4\n",
        "Valor predicho 4 Maligno\n",
        "\n"
       ]
      }
     ],
     "prompt_number": 69
    },
    {
     "cell_type": "code",
     "collapsed": false,
     "input": [
      "\"\"\"\n",
      "12. Para el caso con valores discretos\n",
      "\"\"\"\n",
      "import numpy as np\n",
      "import pandas as pd\n",
      "from sklearn.model_selection import train_test_split\n",
      "names = [\"sl\",\"sw\",\"pl\",\"pw\",\"y\"]\n",
      "dataset = pd.read_csv(\"iris.data\", names = names)\n",
      "x_train,x_test,y_train,y_test = train_test_split(dataset.values[:,:-1],dataset.values[:,-1],test_size=6)\n",
      "\"\"\"\n",
      "1. sepal length in cm\n",
      "2. sepal width in cm\n",
      "3. petal length in cm\n",
      "4. petal width in cm\n",
      "5. class:\n",
      "-- Iris Setosa\n",
      "-- Iris Versicolour\n",
      "-- Iris Virginica\n",
      "\"\"\"\n",
      "ldataset = len(dataset)\n",
      "# escogiendo un dato para hacer test de predicciones, las \u00faltimas 6 filas para este caso\n",
      "\n",
      "test = dataset.values[-6:,:]\n",
      "dataset = dataset.head(ldataset-6) ## for train\n",
      "\n",
      "ldataset = len(y_train)\n",
      "y_a = x_train[y_train==\"Iris-versicolor\"]\n",
      "y_b = x_train[y_train==\"Iris-setosa\"]\n",
      "y_c = x_train[y_train==\"Iris-virginica\"]\n",
      "#conversion a float\n",
      "y_a = np.array(y_a,dtype=np.float32)\n",
      "y_b = np.array(y_b,dtype=np.float32)\n",
      "y_c = np.array(y_c,dtype=np.float32)\n",
      "\n",
      "# Requisitos para calProb (means and stdevs)\n",
      "p_a = len(y_a)/ldataset # P(class=2)\n",
      "p_b = len(y_b)/ldataset # P(class=4)\n",
      "p_c = len(y_c)/ldataset # P(class=4)\n",
      "mean_a = np.mean(y_a,axis=0) \n",
      "std_a = np.std(y_a,axis=0) \n",
      "mean_b = np.mean(y_b,axis=0) \n",
      "std_b = np.std(y_b,axis=0) \n",
      "mean_c = np.mean(y_c,axis=0) \n",
      "std_c = np.std(y_c,axis=0) \n",
      "\n",
      "\n",
      "# escogiendo un dato para hacer test de predicciones, las \u00faltimas 6 filas para este caso\n",
      "for j in range(6):\n",
      "    print(\"Para test = \"+str(x_test[j]))\n",
      "    # Obteniendo prediccion\n",
      "    prob_a = p_a\n",
      "    prob_b = p_b\n",
      "    prob_c = p_c\n",
      "    for i in range(dataset.shape[1]-1):\n",
      "        prob_a = prob_a*calProb(x_test[j][i],mean_a[i],std_a[i])\n",
      "        prob_b = prob_b*calProb(x_test[j][i],mean_b[i],std_b[i])\n",
      "        prob_c = prob_c*calProb(x_test[j][i],mean_c[i],std_c[i])\n",
      "\n",
      "    # Mostrando resultados\n",
      "    print(\"Probabilidad de que sea beningno: \"+str(prob_a/(prob_a+prob_b+prob_c)))\n",
      "    print(\"Probabilidad de que sea maligno: \"+str(prob_b/(prob_a+prob_b+prob_c)))\n",
      "    print(\"Valor real \"+str(y_test[j]))\n",
      "    pred = \"Iris Versicolor\"\n",
      "    #a ver b set c vir\n",
      "    if prob_a<prob_b or prob_a<prob_c:\n",
      "        if prob_b<prob_c:\n",
      "            pred = \"Iris Virginica\"\n",
      "        else:\n",
      "            pred = \"Iris Setosa\"\n",
      "    print(\"Valor predicho \"+pred+\"\\n\")"
     ],
     "language": "python",
     "metadata": {},
     "outputs": [
      {
       "output_type": "stream",
       "stream": "stdout",
       "text": [
        "Para test = [4.8 3.4 1.6 0.2]\n",
        "Probabilidad de que sea beningno: 6.03614091015e-17\n",
        "Probabilidad de que sea maligno: 1.0\n",
        "Valor real Iris-setosa\n",
        "Valor predicho Iris Setosa\n",
        "\n",
        "Para test = [5.7 2.8 4.5 1.3]\n",
        "Probabilidad de que sea beningno: 0.998951957228\n",
        "Probabilidad de que sea maligno: 5.85691184955e-93\n",
        "Valor real Iris-versicolor\n",
        "Valor predicho Iris Versicolor\n",
        "\n",
        "Para test = [6.2 3.4 5.4 2.3]\n",
        "Probabilidad de que sea beningno: 4.75342913203e-07\n",
        "Probabilidad de que sea maligno: 5.28573205475e-206\n",
        "Valor real Iris-virginica\n",
        "Valor predicho Iris Virginica\n",
        "\n",
        "Para test = [5.7 2.9 4.2 1.3]\n",
        "Probabilidad de que sea beningno: 0.999656449564\n",
        "Probabilidad de que sea maligno: 4.15831512808e-80\n",
        "Valor real Iris-versicolor\n",
        "Valor predicho Iris Versicolor\n",
        "\n",
        "Para test = [4.8 3.0 1.4 0.1]\n",
        "Probabilidad de que sea beningno: 5.3371782775e-18\n",
        "Probabilidad de que sea maligno: 1.0\n",
        "Valor real Iris-setosa\n",
        "Valor predicho Iris Setosa\n",
        "\n",
        "Para test = [5.1 3.3 1.7 0.5]\n",
        "Probabilidad de que sea beningno: 6.88568795984e-11\n",
        "Probabilidad de que sea maligno: 0.999999999931\n",
        "Valor real Iris-setosa\n",
        "Valor predicho Iris Setosa\n",
        "\n"
       ]
      }
     ],
     "prompt_number": 68
    },
    {
     "cell_type": "markdown",
     "metadata": {},
     "source": [
      "13 .Ajuste un modelo lineal al conjunto de datos de deuda de pr\u00e9stamos estudiantiles de los Estados Unidos  llamado `student_debt.csv`, resolviendo el problema de m\u00ednimos cuadrados de regresi\u00f3n lineal asociado. Si esta tendencia lineal continua, \u00bfcu\u00e1l ser\u00e1 la deuda total del estudiante en el a\u00f1o 2050?"
     ]
    },
    {
     "cell_type": "code",
     "collapsed": false,
     "input": [
      "import seaborn as sns\n",
      "import matplotlib.pyplot as plt\n",
      "from sklearn.linear_model import LinearRegression\n",
      "sns.set()\n",
      "dataset = pd.read_csv(\"student_debt.csv\")\n",
      "x_train,x_test,y_train,y_test = train_test_split(dataset.values[:,:-1],dataset.values[:,-1],test_size=3)\n",
      "linreg = LinearRegression()\n",
      "linreg.fit(x_train, y_train)\n",
      "y_pred = linreg.predict(x_test)\n",
      "print(\"Valores Reales: \"+str(y_test)+\"\\nValores Predichos: \"+str(y_pred))\n",
      "print(\"En el a\u00f1o 2050 la deuda ser\u00e1: \"+str(linreg.predict(2050))+\" trillones de dolares\")\n",
      "sns.lmplot(x=\"Quarter\", y=\" Total Debt (in trillions $)\", data=dataset, order = 1)#, fit_reg=False)\n",
      "plt.show()"
     ],
     "language": "python",
     "metadata": {},
     "outputs": [
      {
       "output_type": "stream",
       "stream": "stdout",
       "text": [
        "Valores Reales: [ 0.97  0.43  1.03]\n",
        "Valores Predichos: [ 0.96348719  0.41724976  1.02775042]\n",
        "En el a\u00f1o 2050 la deuda ser\u00e1: [ 3.93566146] trillones de dolares\n"
       ]
      },
      {
       "metadata": {},
       "output_type": "display_data",
       "png": "[encoded data removed]",
       "text": [
        "<matplotlib.figure.Figure at 0x7f2fcba5e550>"
       ]
      }
     ],
     "prompt_number": 87
    },
    {
     "cell_type": "markdown",
     "metadata": {},
     "source": [
      "14 . La funci\u00f3n de costo de m\u00ednimos cuadrados para una regresi\u00f3n lineal se puede escribir de manera compacta como:\n",
      "\n",
      "$$\n",
      "g(\\hat{w}) = \\sum_{p =1}^{P}\\biggl(\\hat{x}_p^T\\hat{w} - y_p \\biggr)^2,\n",
      "$$\n",
      "\n",
      "es una funci\u00f3n cuadr\u00e1tica convexa. "
     ]
    },
    {
     "cell_type": "code",
     "collapsed": true,
     "input": [
      "# Tu respuesta"
     ],
     "language": "python",
     "metadata": {},
     "outputs": [],
     "prompt_number": 17
    },
    {
     "cell_type": "markdown",
     "metadata": {},
     "source": [
      "15 (Watt-Borhani-Katsaggelos). Gordon Moore, cofundador de la corporaci\u00f3n Intel, predijo en un art\u00edculo de 1965, que el n\u00famero de transistores en un circuito integrado se duplicar\u00eda aproximadamente cada dos a\u00f1os. Esta conjetura, referida en la actualidad como la ley de Moore, ha demostrado ser lo suficientemente precisa en las \u00faltimas cinco d\u00e9cadas.\n",
      "\n",
      "Dado que el poder de procesamiento de las computadoras est\u00e1 directamente relacionado con el n\u00famero de transistores en sus CPU, la ley de Moore proporciona un modelo de tendencia para predecir el poder de c\u00e1lculo de futuros microprocesadores.\n",
      "\n",
      "La Figura siguiente muestra los recuentos de transistores de varios microprocesadores en comparaci\u00f3n con el a\u00f1o en que fueron liberados, comenzando desde Intel 4004 en 1971 con s\u00f3lo 2300 transistores, hasta el Xeon E7 de Intel, introducido en 2014 con m\u00e1s de 4.300 millones de transistores.\n",
      "\n",
      "![](Moore-Law.png)\n",
      "\n",
      "\n",
      "* Propone una transformaci\u00f3n de base exponencial basada en la ley de Moore, mostrada en la figura anteior , de modo que los datos de entrada y salida transformados est\u00e9n relacionados linealmente.\n",
      "\n",
      "* Formula y minimice una funci\u00f3n de costo de m\u00ednimos cuadrados para pesos apropiados y ajuste su modelo a los datos en el espacio de datos original. Los datos mostrados aqu\u00ed se encuentran en el archivo `transistor-counts.csv`."
     ]
    },
    {
     "cell_type": "heading",
     "level": 4,
     "metadata": {},
     "source": [
      "Respuesta:"
     ]
    },
    {
     "cell_type": "code",
     "collapsed": false,
     "input": [
      "\"\"\"\n",
      "Esta pregunta no esta hecha solo hice el grafiquito, haganlo ustedes\n",
      "\"\"\"\n",
      "import seaborn as sns\n",
      "import matplotlib.pyplot as plt\n",
      "sns.set()\n",
      "transistor = pd.read_csv(\"transistor-counts.csv\")\n",
      "sns.lmplot(x=\"year\", y=\"transistors\", data=transistor, order = 5)#, fit_reg=False)\n",
      "plt.show()"
     ],
     "language": "python",
     "metadata": {},
     "outputs": [
      {
       "metadata": {},
       "output_type": "display_data",
       "png": "[encoded data removed]",
       "text": [
        "<matplotlib.figure.Figure at 0x7f2fcb226828>"
       ]
      }
     ],
     "prompt_number": 56
    },
    {
     "cell_type": "code",
     "collapsed": true,
     "input": [
      "# Tu respuesta"
     ],
     "language": "python",
     "metadata": {},
     "outputs": [],
     "prompt_number": 1
    },
    {
     "cell_type": "markdown",
     "metadata": {},
     "source": [
      "16 .(Bishop). Dado un conjunto de puntos $\\{x_n\\}$, podemos definir la c\u00e1psula convexa como el conjunto de todos los puntos:\n",
      "\n",
      "$$\n",
      "x = \\sum_{n}\\alpha_nx_n\n",
      "$$\n",
      "\n",
      "donde $\\alpha_n \\geq 0$ y $\\sum_{n}\\alpha_n = 1$. Consideremos un segundo conjunto de puntos $\\{y_n \\}$ junto con su correspondiente c\u00e1psula convexa. Por definici\u00f3n los dos conjuntos de puntos son linealmente separables si existe un vector $\\hat{w}$ y un escalar $w_0$ tal que $\\hat{w}^Tx_n + w_0 > 0$ para todo $x_n$ y $\\hat{w}^Ty_n + w_0 < 0$ para todo $y_n$.\n",
      "\n",
      "\n",
      "Demuestre que si sus c\u00e1psulas convexas se intersecan, los dos conjuntos de puntos no pueden ser linealmente separables, y viceversa que si son linealmente separables, sus c\u00e1psulas convexas no se cruzan."
     ]
    },
    {
     "cell_type": "markdown",
     "metadata": {
      "collapsed": true
     },
     "source": [
      "# Demostraci\u00f3n:     \n",
      "Sea:\n",
      "$$y\\left(x\\right)=\\hat{w}^Tx_n + w_0 > 0\\quad \\quad \\quad \\quad \\left( 1 \\right)\\\\\\\n",
      "y\\left(y\\right)=\\hat{w}^Ty_n + w_0 < 0\\quad \\quad \\quad \\quad$$\n",
      "Adem\u00e1s se cumple :\n",
      "$$\n",
      "x = \\sum_{n}\\alpha_nx_n\n",
      "$$\n",
      "\n",
      "Reemplazando en (1):\n",
      "\n",
      "$$y\\left(x\\right)=\\hat{w}^T\\left(\\sum_{n}\\alpha_nx_n\\right) + w_0$$\n",
      "$$y\\left(x\\right)=\\sum_{n}\\alpha_n\\left(\\hat{w}^Tx_n\\right) + w_0$$\n",
      "$$y\\left(x\\right)=\\sum_{n}\\alpha_n\\left(\\hat{w}^Tx_n + w_0\\right/\\alpha_n)$$\n",
      "$$y\\left(x\\right)=\\sum_{n}\\alpha_n\\left(\\hat{w}^Tx_n + w_1\\right)$$\n",
      "De la misma forma para el conjunto de puntos $\\{y_n \\}$ :\n",
      "$$y\\left(y\\right)=\\sum_{n}\\beta_n\\left(\\hat{w}^Ty_n + w_1\\right)$$\n",
      "Luego si existe intersecci\u00f3n entre las dos c\u00e1psulas convexas, entonces habr\u00e1 al menos un punto que es com\u00fan entre $\\{x_n \\}$ y $\\{y_n \\}$ ,\n",
      "Sea \"z\" este punto entonces :\n",
      "$$\n",
      "y\\left(z\\right)=\\sum_{n}\\alpha_n\\left(\\hat{w}^Tx_n + w_1\\right)=\\sum_{n}\\beta_n\\left(\\hat{w}^Ty_n + w_1\\right)\\quad \\quad \\quad \\quad \\left( 2 \\right)\n",
      "$$\n",
      "Adem\u00e1s por condici\u00f3n del problema:\n",
      "\n",
      "$$y\\left(x\\right)=\\hat{w}^Tx_n + w_0 > 0\\quad \\quad \\quad \\quad$$\n",
      "$$y\\left(z\\right)=\\hat{w}^Tz_n + w_0 < 0\\quad \\quad \\quad \\quad \\left( 3 \\right)$$\n",
      "\n",
      "De (2) y (3) se llega a una contradicci\u00f3n ya que no puede haber igualdad entre un n\u00famero negativo y uno positivo.\n",
      "\n",
      "Por otra parte si los dos conjuntos $\\{x_n \\}$ y $\\{y_n \\}$ son linealmente separables entonces por condici\u00f3n del ejercicio :\n",
      "\n",
      "\\begin{equation*}\n",
      "y\\left(x\\right)=\\hat{w}^Tx_n + w_0 > 0\\quad \\quad \\quad \\quad\\\\\\ \\\\\\\n",
      "y\\left(y\\right)=\\hat{w}^Ty_n + w_0 < 0\\quad \\quad \\quad \\quad \\left( 4 \\right)\\\\\\\n",
      "\\end{equation*}\n",
      "De la misma manera supongamos que existe un punto \"z\" com\u00fan entre los dos conjuntos, por lo tanto se cumplir\u00eda lo siguiente:\n",
      "\n",
      "$$y\\left(z\\right)=\\sum_{n}\\alpha_n\\left(\\hat{w}^Tx_n + w_1\\right)=\\sum_{n}\\beta_n\\left(\\hat{w}^Ty_n + w_1\\right)\\quad \\quad \\quad \\quad \\left( 5 \\right)$$\n",
      "\n",
      "Luego de (4) y (5) se llega tambi\u00e9n a una contradicci\u00f3n.\n",
      "\n"
     ]
    },
    {
     "cell_type": "markdown",
     "metadata": {},
     "source": [
      "17 .\n",
      "\n",
      "* Proporciona un ejemplo de un conjunto de datos bidimensional para el cual los datos son linealmente separables, pero no linealmente independientes.\n",
      " linealmente independiente.\n",
      "    \n",
      "* \u00bfPuedes encontrar un conjunto de datos que sea linealmente independiente pero no linealmente separable?."
     ]
    },
    {
     "cell_type": "code",
     "collapsed": true,
     "input": [
      "# Tu respuesta"
     ],
     "language": "python",
     "metadata": {},
     "outputs": [],
     "prompt_number": 12
    },
    {
     "cell_type": "markdown",
     "metadata": {},
     "source": [
      "18 . Demuestra que para la regresi\u00f3n de m\u00ednimos cuadrados ordinarios y ortogonales  ajustados a los datos $(x_n, y_n), n = 1, \\dots, N$ las l\u00edneas ajustadas  pasan por el punto $\\sum_{n =1}^{N}(x_n, y_n)/N$."
     ]
    },
    {
     "cell_type": "markdown",
     "metadata": {
      "collapsed": true
     },
     "source": [
      "# Demostraci\u00f3n:\n",
      "\n",
      "\\begin{equation*}\n",
      "\\frac { \\sum _{ n=1 }^{ N } (x_{ n },y_{ n }) }{ N } =\\left( \\sum _{ n=1 }^{ N }{ \\frac { x_{ n } }{ N }  } ,\\sum _{ n=1 }^{ N }{ \\frac { y_{ n } }{ N }  }  \\right)=\\left( \\overline { x } ,\\overline { y }  \\right)  \\\\\\\n",
      "\\end{equation*}\n",
      "\n",
      "Lo que se desea demostrar es que el punto que contiene a las medias respectivas tanto para \"x\" y \"y\" pasa por la recta\n",
      "de regresi\u00f3n.\n",
      "\n",
      "Por ajuste lineal por m\u00ednimos cuadrados:\n",
      "\n",
      "\\begin{equation*}\n",
      "\\sum_{n=1}^N\\left(y_n - \\left(a + b x_n \\right)\\right)^2 \\\\\\\n",
      "\\end{equation*}\n",
      "\n",
      "Para hallar el m\u00ednimo las derivadas parciales se igualan a cero :\n",
      "\n",
      "\\begin{equation*}\n",
      "\\sum _{ n=1 }^{ N }{ { \\left( { y }_{ n }-\\left( a+b{ x }_{ n } \\right)  \\right)  }=0 }\\quad \\quad \\quad \\quad \\quad \\quad \\quad \\quad \\quad \\left( 1 \\right)\n",
      "\\end{equation*}\n",
      "\\begin{equation*}\n",
      "\\sum _{ n=1 }^{ N }{ { { x }_{ n }\\left( { y }_{ n }-\\left( a+b{ x }_{ n } \\right)  \\right)  }=0 }\\quad \\quad \\quad \\quad \\quad \\quad \\quad \\quad  \\left( 2 \\right)  \\\\\\\n",
      "\\end{equation*}\n",
      "\n",
      "De la ecuaci\u00f3n (1) :\n",
      "\n",
      "\\begin{equation*}\n",
      "\\sum _{ n=1 }^{ N }{ { { y }_{ n } } = a+b \\left( \\sum _{ n=1 }^{ N }{ { x }_{ n } }  \\right)  }\\quad \\quad \\quad \\quad \n",
      "\\quad \\quad \\quad \\left( 3 \\right)  \\\\\\\n",
      "\\end{equation*}\n",
      "\n",
      "Dividiendo la ecuaci\u00f3n (3) por \"N\" :\n",
      "\n",
      "\\begin{equation*}\n",
      "\\sum _{ n=1 }^{ N }{ \\frac { { y }_{ n } }{ N } = a+b \\left( \\sum _{ n=1 }^{ N }{ \\frac { { x }_{ n } }{ N }  }  \\right)  }\\\\\\ \\\\\\\n",
      "\\end{equation*}\n",
      "\\begin{equation*}\n",
      "\\therefore \\quad \\quad \\quad \\overline { y } =\\quad a\\quad +\\quad b\\overline { x } \n",
      "\\end{equation*}\n"
     ]
    },
    {
     "cell_type": "markdown",
     "metadata": {},
     "source": [
      "19 . Proporciona un reporte del manejo que hace scikit learn acerca de los modelos de regresi\u00f3n lineal: http://scikit-learn.org/stable/modules/generated/sklearn.linear_model.LinearRegression.html. Muestra ejemplos.\n"
     ]
    },
    {
     "cell_type": "markdown",
     "metadata": {},
     "source": [
      "#### Respuesta\n",
      "Los modelos de regresi\u00f3n lineal son la relacion de una variable end\u00f3gena(explicada) y una variable ex\u00f3gena(explicativa), la variable end\u00f3gena viene a ser la variable respuesta, pero estas se relacionan con la variable ex\u00f3gena la cual puede ser solo una variable o varias, siendo para el primer caso una regresi\u00f3n lineal y para el otro una regresi\u00f3n lineal multiple,  donde a su vez tambien esta los modelos regresion polinomial y regresi\u00f3n logistica entre otros modelos; todos estos modelos son casos especiales del modelo lineal generalizado, y estan desarrollados en Scikit Learn.\n",
      " \n",
      "El objetivo de los problemas de regresi\u00f3n es predecir el valor de una variable de respuesta continua.\n",
      " \n",
      "##### Regresion lineal :\n",
      "* sklearn.linear_model.LinearRegression :\n",
      "    Es un estimador, siendo este el que predice los valores con respecto a los data observada.\n",
      " \n",
      "* fit() y predict() :\n",
      "    En scikit-learn todos los estimadores tienen implementado los m\u00e9todos fit() y predict(); siendo el uso del primero para conocer los par\u00e1metros del modelo y el segundo para predecir el valor de una variable end\u00f3gena (variable respuesta).\n",
      "  \n",
      "En el siguiente ejemplo usamos la  https://archive.ics.uci.edu/ml/datasets/Wine, utilizamos la funcion train_test_split funcion que divide los datos en conjuntos de entrenamiento y prueba, donde por defecto se coge el 25% para la prueba.\n",
      " \n",
      "El modelo que usa es minimos cuadrados ordinarios o lineal menos cuadrados. El r-squared mide cuan bien los valores observados de la variable respuesta se esta explicando por el modelo."
     ]
    },
    {
     "cell_type": "code",
     "collapsed": true,
     "input": [
      "from sklearn.linear_model import LinearRegression\n",
      "import pandas as pd\n",
      "import matplotlib.pylab as plt\n",
      "from sklearn.cross_validation import train_test_split\n",
      "\n",
      "wine = pd.read_csv('winequality-red.csv')\n",
      "wine.head()"
     ],
     "language": "python",
     "metadata": {},
     "outputs": [
      {
       "output_type": "stream",
       "stream": "stderr",
       "text": [
        "/home/bitzer/.local/lib/python2.7/site-packages/sklearn/cross_validation.py:44: DeprecationWarning: This module was deprecated in version 0.18 in favor of the model_selection module into which all the refactored classes and functions are moved. Also note that the interface of the new CV iterators are different from that of this module. This module will be removed in 0.20.\n",
        "  \"This module will be removed in 0.20.\", DeprecationWarning)\n"
       ]
      },
      {
       "html": [
        "<div style=\"max-width:1500px;overflow:auto;\">\n",
        "<table border=\"1\" class=\"dataframe\">\n",
        "  <thead>\n",
        "    <tr style=\"text-align: right;\">\n",
        "      <th></th>\n",
        "      <th>fixed acidity</th>\n",
        "      <th>volatile acidity</th>\n",
        "      <th>citric acid</th>\n",
        "      <th>residual sugar</th>\n",
        "      <th>chlorides</th>\n",
        "      <th>free sulfur dioxide</th>\n",
        "      <th>total sulfur dioxide</th>\n",
        "      <th>density</th>\n",
        "      <th>pH</th>\n",
        "      <th>sulphates</th>\n",
        "      <th>alcohol</th>\n",
        "      <th>quality</th>\n",
        "    </tr>\n",
        "  </thead>\n",
        "  <tbody>\n",
        "    <tr>\n",
        "      <th>0</th>\n",
        "      <td>7.4</td>\n",
        "      <td>0.70</td>\n",
        "      <td>0.00</td>\n",
        "      <td>1.9</td>\n",
        "      <td>0.076</td>\n",
        "      <td>11.0</td>\n",
        "      <td>34.0</td>\n",
        "      <td>0.9978</td>\n",
        "      <td>3.51</td>\n",
        "      <td>0.56</td>\n",
        "      <td>9.4</td>\n",
        "      <td>5</td>\n",
        "    </tr>\n",
        "    <tr>\n",
        "      <th>1</th>\n",
        "      <td>7.8</td>\n",
        "      <td>0.88</td>\n",
        "      <td>0.00</td>\n",
        "      <td>2.6</td>\n",
        "      <td>0.098</td>\n",
        "      <td>25.0</td>\n",
        "      <td>67.0</td>\n",
        "      <td>0.9968</td>\n",
        "      <td>3.20</td>\n",
        "      <td>0.68</td>\n",
        "      <td>9.8</td>\n",
        "      <td>5</td>\n",
        "    </tr>\n",
        "    <tr>\n",
        "      <th>2</th>\n",
        "      <td>7.8</td>\n",
        "      <td>0.76</td>\n",
        "      <td>0.04</td>\n",
        "      <td>2.3</td>\n",
        "      <td>0.092</td>\n",
        "      <td>15.0</td>\n",
        "      <td>54.0</td>\n",
        "      <td>0.9970</td>\n",
        "      <td>3.26</td>\n",
        "      <td>0.65</td>\n",
        "      <td>9.8</td>\n",
        "      <td>5</td>\n",
        "    </tr>\n",
        "    <tr>\n",
        "      <th>3</th>\n",
        "      <td>11.2</td>\n",
        "      <td>0.28</td>\n",
        "      <td>0.56</td>\n",
        "      <td>1.9</td>\n",
        "      <td>0.075</td>\n",
        "      <td>17.0</td>\n",
        "      <td>60.0</td>\n",
        "      <td>0.9980</td>\n",
        "      <td>3.16</td>\n",
        "      <td>0.58</td>\n",
        "      <td>9.8</td>\n",
        "      <td>6</td>\n",
        "    </tr>\n",
        "    <tr>\n",
        "      <th>4</th>\n",
        "      <td>7.4</td>\n",
        "      <td>0.70</td>\n",
        "      <td>0.00</td>\n",
        "      <td>1.9</td>\n",
        "      <td>0.076</td>\n",
        "      <td>11.0</td>\n",
        "      <td>34.0</td>\n",
        "      <td>0.9978</td>\n",
        "      <td>3.51</td>\n",
        "      <td>0.56</td>\n",
        "      <td>9.4</td>\n",
        "      <td>5</td>\n",
        "    </tr>\n",
        "  </tbody>\n",
        "</table>\n",
        "</div>"
       ],
       "metadata": {},
       "output_type": "pyout",
       "prompt_number": 1,
       "text": [
        "   fixed acidity  volatile acidity  citric acid  residual sugar  chlorides  \\\n",
        "0            7.4              0.70         0.00             1.9      0.076   \n",
        "1            7.8              0.88         0.00             2.6      0.098   \n",
        "2            7.8              0.76         0.04             2.3      0.092   \n",
        "3           11.2              0.28         0.56             1.9      0.075   \n",
        "4            7.4              0.70         0.00             1.9      0.076   \n",
        "\n",
        "   free sulfur dioxide  total sulfur dioxide  density    pH  sulphates  \\\n",
        "0                 11.0                  34.0   0.9978  3.51       0.56   \n",
        "1                 25.0                  67.0   0.9968  3.20       0.68   \n",
        "2                 15.0                  54.0   0.9970  3.26       0.65   \n",
        "3                 17.0                  60.0   0.9980  3.16       0.58   \n",
        "4                 11.0                  34.0   0.9978  3.51       0.56   \n",
        "\n",
        "   alcohol  quality  \n",
        "0      9.4        5  \n",
        "1      9.8        5  \n",
        "2      9.8        5  \n",
        "3      9.8        6  \n",
        "4      9.4        5  "
       ]
      }
     ],
     "prompt_number": 1
    },
    {
     "cell_type": "code",
     "collapsed": false,
     "input": [
      "wine.describe()"
     ],
     "language": "python",
     "metadata": {},
     "outputs": [
      {
       "html": [
        "<div style=\"max-width:1500px;overflow:auto;\">\n",
        "<table border=\"1\" class=\"dataframe\">\n",
        "  <thead>\n",
        "    <tr style=\"text-align: right;\">\n",
        "      <th></th>\n",
        "      <th>fixed acidity</th>\n",
        "      <th>volatile acidity</th>\n",
        "      <th>citric acid</th>\n",
        "      <th>residual sugar</th>\n",
        "      <th>chlorides</th>\n",
        "      <th>free sulfur dioxide</th>\n",
        "      <th>total sulfur dioxide</th>\n",
        "      <th>density</th>\n",
        "      <th>pH</th>\n",
        "      <th>sulphates</th>\n",
        "      <th>alcohol</th>\n",
        "      <th>quality</th>\n",
        "    </tr>\n",
        "  </thead>\n",
        "  <tbody>\n",
        "    <tr>\n",
        "      <th>count</th>\n",
        "      <td>1599.000000</td>\n",
        "      <td>1599.000000</td>\n",
        "      <td>1599.000000</td>\n",
        "      <td>1599.000000</td>\n",
        "      <td>1599.000000</td>\n",
        "      <td>1599.000000</td>\n",
        "      <td>1599.000000</td>\n",
        "      <td>1599.000000</td>\n",
        "      <td>1599.000000</td>\n",
        "      <td>1599.000000</td>\n",
        "      <td>1599.000000</td>\n",
        "      <td>1599.000000</td>\n",
        "    </tr>\n",
        "    <tr>\n",
        "      <th>mean</th>\n",
        "      <td>8.319637</td>\n",
        "      <td>0.527821</td>\n",
        "      <td>0.270976</td>\n",
        "      <td>2.538806</td>\n",
        "      <td>0.087467</td>\n",
        "      <td>15.874922</td>\n",
        "      <td>46.467792</td>\n",
        "      <td>0.996747</td>\n",
        "      <td>3.311113</td>\n",
        "      <td>0.658149</td>\n",
        "      <td>10.422983</td>\n",
        "      <td>5.636023</td>\n",
        "    </tr>\n",
        "    <tr>\n",
        "      <th>std</th>\n",
        "      <td>1.741096</td>\n",
        "      <td>0.179060</td>\n",
        "      <td>0.194801</td>\n",
        "      <td>1.409928</td>\n",
        "      <td>0.047065</td>\n",
        "      <td>10.460157</td>\n",
        "      <td>32.895324</td>\n",
        "      <td>0.001887</td>\n",
        "      <td>0.154386</td>\n",
        "      <td>0.169507</td>\n",
        "      <td>1.065668</td>\n",
        "      <td>0.807569</td>\n",
        "    </tr>\n",
        "    <tr>\n",
        "      <th>min</th>\n",
        "      <td>4.600000</td>\n",
        "      <td>0.120000</td>\n",
        "      <td>0.000000</td>\n",
        "      <td>0.900000</td>\n",
        "      <td>0.012000</td>\n",
        "      <td>1.000000</td>\n",
        "      <td>6.000000</td>\n",
        "      <td>0.990070</td>\n",
        "      <td>2.740000</td>\n",
        "      <td>0.330000</td>\n",
        "      <td>8.400000</td>\n",
        "      <td>3.000000</td>\n",
        "    </tr>\n",
        "    <tr>\n",
        "      <th>25%</th>\n",
        "      <td>7.100000</td>\n",
        "      <td>0.390000</td>\n",
        "      <td>0.090000</td>\n",
        "      <td>1.900000</td>\n",
        "      <td>0.070000</td>\n",
        "      <td>7.000000</td>\n",
        "      <td>22.000000</td>\n",
        "      <td>0.995600</td>\n",
        "      <td>3.210000</td>\n",
        "      <td>0.550000</td>\n",
        "      <td>9.500000</td>\n",
        "      <td>5.000000</td>\n",
        "    </tr>\n",
        "    <tr>\n",
        "      <th>50%</th>\n",
        "      <td>7.900000</td>\n",
        "      <td>0.520000</td>\n",
        "      <td>0.260000</td>\n",
        "      <td>2.200000</td>\n",
        "      <td>0.079000</td>\n",
        "      <td>14.000000</td>\n",
        "      <td>38.000000</td>\n",
        "      <td>0.996750</td>\n",
        "      <td>3.310000</td>\n",
        "      <td>0.620000</td>\n",
        "      <td>10.200000</td>\n",
        "      <td>6.000000</td>\n",
        "    </tr>\n",
        "    <tr>\n",
        "      <th>75%</th>\n",
        "      <td>9.200000</td>\n",
        "      <td>0.640000</td>\n",
        "      <td>0.420000</td>\n",
        "      <td>2.600000</td>\n",
        "      <td>0.090000</td>\n",
        "      <td>21.000000</td>\n",
        "      <td>62.000000</td>\n",
        "      <td>0.997835</td>\n",
        "      <td>3.400000</td>\n",
        "      <td>0.730000</td>\n",
        "      <td>11.100000</td>\n",
        "      <td>6.000000</td>\n",
        "    </tr>\n",
        "    <tr>\n",
        "      <th>max</th>\n",
        "      <td>15.900000</td>\n",
        "      <td>1.580000</td>\n",
        "      <td>1.000000</td>\n",
        "      <td>15.500000</td>\n",
        "      <td>0.611000</td>\n",
        "      <td>72.000000</td>\n",
        "      <td>289.000000</td>\n",
        "      <td>1.003690</td>\n",
        "      <td>4.010000</td>\n",
        "      <td>2.000000</td>\n",
        "      <td>14.900000</td>\n",
        "      <td>8.000000</td>\n",
        "    </tr>\n",
        "  </tbody>\n",
        "</table>\n",
        "</div>"
       ],
       "metadata": {},
       "output_type": "pyout",
       "prompt_number": 2,
       "text": [
        "       fixed acidity  volatile acidity  citric acid  residual sugar  \\\n",
        "count    1599.000000       1599.000000  1599.000000     1599.000000   \n",
        "mean        8.319637          0.527821     0.270976        2.538806   \n",
        "std         1.741096          0.179060     0.194801        1.409928   \n",
        "min         4.600000          0.120000     0.000000        0.900000   \n",
        "25%         7.100000          0.390000     0.090000        1.900000   \n",
        "50%         7.900000          0.520000     0.260000        2.200000   \n",
        "75%         9.200000          0.640000     0.420000        2.600000   \n",
        "max        15.900000          1.580000     1.000000       15.500000   \n",
        "\n",
        "         chlorides  free sulfur dioxide  total sulfur dioxide      density  \\\n",
        "count  1599.000000          1599.000000           1599.000000  1599.000000   \n",
        "mean      0.087467            15.874922             46.467792     0.996747   \n",
        "std       0.047065            10.460157             32.895324     0.001887   \n",
        "min       0.012000             1.000000              6.000000     0.990070   \n",
        "25%       0.070000             7.000000             22.000000     0.995600   \n",
        "50%       0.079000            14.000000             38.000000     0.996750   \n",
        "75%       0.090000            21.000000             62.000000     0.997835   \n",
        "max       0.611000            72.000000            289.000000     1.003690   \n",
        "\n",
        "                pH    sulphates      alcohol      quality  \n",
        "count  1599.000000  1599.000000  1599.000000  1599.000000  \n",
        "mean      3.311113     0.658149    10.422983     5.636023  \n",
        "std       0.154386     0.169507     1.065668     0.807569  \n",
        "min       2.740000     0.330000     8.400000     3.000000  \n",
        "25%       3.210000     0.550000     9.500000     5.000000  \n",
        "50%       3.310000     0.620000    10.200000     6.000000  \n",
        "75%       3.400000     0.730000    11.100000     6.000000  \n",
        "max       4.010000     2.000000    14.900000     8.000000  "
       ]
      }
     ],
     "prompt_number": 2
    },
    {
     "cell_type": "code",
     "collapsed": false,
     "input": [
      "X = wine[list(wine.columns)[:-1]]\n",
      "y = wine['quality']\n",
      "X_train, X_test, y_train, y_test = train_test_split(X, y)"
     ],
     "language": "python",
     "metadata": {},
     "outputs": [],
     "prompt_number": 5
    },
    {
     "cell_type": "code",
     "collapsed": false,
     "input": [
      "%matplotlib inline\n",
      "import matplotlib.pylab as plt\n",
      "for i in X:\n",
      "    print i\n",
      "    plt.scatter(wine[i], wine['quality'])\n",
      "    plt.show()\n",
      "##En las graficas se observan la relacion positiva que tiene el alcohol con la calidad, y la relacion negativa con la acides."
     ],
     "language": "python",
     "metadata": {},
     "outputs": [
      {
       "output_type": "stream",
       "stream": "stdout",
       "text": [
        "fixed acidity\n"
       ]
      },
      {
       "metadata": {},
       "output_type": "display_data",
       "png": "[encoded data removed]",
       "text": [
        "<matplotlib.figure.Figure at 0x7f240a4f4b50>"
       ]
      },
      {
       "output_type": "stream",
       "stream": "stdout",
       "text": [
        "volatile acidity\n"
       ]
      },
      {
       "metadata": {},
       "output_type": "display_data",
       "png": "[encoded data removed]",
       "text": [
        "<matplotlib.figure.Figure at 0x7f240839cf50>"
       ]
      },
      {
       "output_type": "stream",
       "stream": "stdout",
       "text": [
        "citric acid\n"
       ]
      },
      {
       "metadata": {},
       "output_type": "display_data",
       "png": "[encoded data removed]",
       "text": [
        "<matplotlib.figure.Figure at 0x7f24082d3210>"
       ]
      },
      {
       "output_type": "stream",
       "stream": "stdout",
       "text": [
        "residual sugar\n"
       ]
      },
      {
       "metadata": {},
       "output_type": "display_data",
       "png": "[encoded data removed]",
       "text": [
        "<matplotlib.figure.Figure at 0x7f240823e1d0>"
       ]
      },
      {
       "output_type": "stream",
       "stream": "stdout",
       "text": [
        "chlorides\n"
       ]
      },
      {
       "metadata": {},
       "output_type": "display_data",
       "png": "[encoded data removed]",
       "text": [
        "<matplotlib.figure.Figure at 0x7f2408152d50>"
       ]
      },
      {
       "output_type": "stream",
       "stream": "stdout",
       "text": [
        "free sulfur dioxide\n"
       ]
      },
      {
       "metadata": {},
       "output_type": "display_data",
       "png": "[encoded data removed]",
       "text": [
        "<matplotlib.figure.Figure at 0x7f240809f250>"
       ]
      },
      {
       "output_type": "stream",
       "stream": "stdout",
       "text": [
        "total sulfur dioxide\n"
       ]
      },
      {
       "metadata": {},
       "output_type": "display_data",
       "png": "[encoded data removed]",
       "text": [
        "<matplotlib.figure.Figure at 0x7f2407fd6b50>"
       ]
      },
      {
       "output_type": "stream",
       "stream": "stdout",
       "text": [
        "density\n"
       ]
      },
      {
       "metadata": {},
       "output_type": "display_data",
       "png": "[encoded data removed]",
       "text": [
        "<matplotlib.figure.Figure at 0x7f240816f590>"
       ]
      },
      {
       "output_type": "stream",
       "stream": "stdout",
       "text": [
        "pH\n"
       ]
      },
      {
       "metadata": {},
       "output_type": "display_data",
       "png": "[encoded data removed]",
       "text": [
        "<matplotlib.figure.Figure at 0x7f2407e5e950>"
       ]
      },
      {
       "output_type": "stream",
       "stream": "stdout",
       "text": [
        "sulphates\n"
       ]
      },
      {
       "metadata": {},
       "output_type": "display_data",
       "png": "[encoded data removed]",
       "text": [
        "<matplotlib.figure.Figure at 0x7f2407d96f50>"
       ]
      },
      {
       "output_type": "stream",
       "stream": "stdout",
       "text": [
        "alcohol\n"
       ]
      },
      {
       "metadata": {},
       "output_type": "display_data",
       "png": "[encoded data removed]",
       "text": [
        "<matplotlib.figure.Figure at 0x7f2407e51fd0>"
       ]
      }
     ],
     "prompt_number": 7
    },
    {
     "cell_type": "code",
     "collapsed": false,
     "input": [
      "regressor = LinearRegression()\n",
      "regressor.fit(X_train, y_train)\n",
      "y_predictions = regressor.predict(X_test)\n",
      "print 'R-squared:', regressor.score(X_test, y_test)"
     ],
     "language": "python",
     "metadata": {},
     "outputs": [
      {
       "output_type": "stream",
       "stream": "stdout",
       "text": [
        "R-squared: 0.359532579236\n"
       ]
      }
     ],
     "prompt_number": 9
    }
   ],
   "metadata": {}
  }
 ]
}