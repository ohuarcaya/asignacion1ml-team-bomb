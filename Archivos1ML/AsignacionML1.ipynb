{
 "cells": [
  {
   "cell_type": "markdown",
   "metadata": {},
   "source": [
    "# Asignación 1\n",
    "\n",
    "Todos los asignaciones serán presentadas utilizando los cuadernos de [Jupyter Notebook](http://jupyter.org/), además de respectivas pruebas como ejemplo, así como el uso de mediciones de velocidad de ejecución utilizando  el comando `timeit` y algunos gráficos si fuese necesario.\n",
    "\n",
    "Las referencias a los ejercicios son :\n",
    "\n",
    "* David Barber, [Bayesian Reasoning and Machine Learning](http://web4.cs.ucl.ac.uk/staff/D.Barber/pmwiki/pmwiki.php?n=Brml.Online),  Cambridge University Press, 2017.\n",
    "\n",
    "* Pattern Recognition and Machine Learning de Chris Bishop 2006.\n",
    "\n",
    "* Machine Learning Refined, Watt, Borhani, Katsaggelos 2016."
   ]
  },
  {
   "cell_type": "markdown",
   "metadata": {
    "collapsed": true
   },
   "source": [
    "## Lista de ejercicios"
   ]
  },
  {
   "cell_type": "markdown",
   "metadata": {},
   "source": [
    "1 . Imaginemos  que tenemos dos posibilidades: podemos escanear y enviar por correo electrónico una imagen, o podemos usar un lector óptico de caracteres (OCR) y enviar el archivo de texto. Discute las ventaja y las desventajas de los dos enfoques de manera comparativa. ¿Cuándo uno sería preferible al otro?."
   ]
  },
  {
   "cell_type": "markdown",
   "metadata": {
    "collapsed": true
   },
   "source": [
    "\n",
    "#### Respuesta:\n",
    "\n",
    "OCR es una herramienta muy útil, pero como toda tecnología tiene sus limitaciones.\n",
    "\n",
    "Cuando se trata de enviar imagen (IMG) o texto escaneado con OCR (OCRtext), la ventaja de uno respecto \n",
    "a otro dependerá mucho del uso que se de al contenido.\n",
    "\n",
    "1. Si la imagen contiene mucho texto y el receptor requiere hacer búsquedas, lo más veloz y eficiente\n",
    "será enviar OCRtext.\n",
    "\n",
    "2. Si se requiere agregar información adicional y/o editar la información que contenga la imagen, lo más\n",
    "conveniente será enviar OCRtext\n",
    "\n",
    "3. Si el contenido del texto está hecho a mano, lo más conveniente será enviar IMG, puesto que ocr no \n",
    "tiene buen rendimiento con manuscritos.\n",
    "\n",
    "4. Si es algún tipo de documento que necesita hacer, o si accidentalmente se borró el archivo digital,\n",
    "escaneando el original con OCR se ahorra esfuerzo y tiempo.\n",
    "\n",
    "5. Si la tipografía es variada, es decir si existen más de un idioma (inglés y japones x ejmplo), \n",
    "la tipografía sería un problema para este caso conviene IMG.\n",
    "\n",
    "6. Si el texto contenido en la imagen es muy varicolor, para usar OCR se tiene que llevar a escala de grises,\n",
    "y si en escala de grises no se distingue el texto como debería sería mejor IMG.\n",
    "\n",
    "7. Si la imágen no tiene buena calidad, o si el texto es muy pequeño. Entonces conviene enviar la IMG.\n",
    "\n",
    "8. Si en la imágen hay un gráfico de mucho importancia además del texto, conviene enviar IMG.\n",
    "\n",
    "Como es de notar existen varios casos hipotéticos, el uso o no de OCR depende mucho del uso que se dé.\n",
    " "
   ]
  },
  {
   "cell_type": "markdown",
   "metadata": {},
   "source": [
    "2 .Digamos que estamos construyendo un OCR y para cada carácter, almacenamos el mapa de bits de ese carácter como una plantilla que coincida con el carácter de lectura píxel a píxel. Explica cuándo fallaría un sistema de este tipo. ¿Por qué se siguen utilizando los lectores de códigos de barras?"
   ]
  },
  {
   "cell_type": "markdown",
   "metadata": {
    "collapsed": true
   },
   "source": [
    "\n",
    "#### Respuesta:\n",
    "\n",
    "1. EL error se genera cuando se haga reconocimiento de escritura sea a mano, pues hay muchos tipos de escritura,\n",
    "cada persona escribe de forma, tamaño y estilo diferente.\n",
    "2. El error también se genera cuando no se usan letras contenidas en el alfabeto propuesto, o una mezcla de ambos.\n",
    "Es decir si el texto contiene idiomas con otros alfabetos o simbolos ajenos al alfabeto.\n",
    "\n",
    "Codigo de barras se siguen utilizando por que mantienen un estandar, es el mismo para diferentes culturas.\n",
    "Además de ello son más baratos y fáciles de usar y lo más importante es que eliminan la posibilidad de error humano\n",
    "haciéndolo más ágil.\n",
    "\n"
   ]
  },
  {
   "cell_type": "markdown",
   "metadata": {},
   "source": [
    "3 . Supongamos que se nos da la tarea de construir un sistema para distinguir correo basura. ¿Qué hay en un correo basura que nos permite saber que es basura? ¿Cómo puede la computadora detectar la basura mediante un análisis sintáctico? ¿Qué nos gustaría que hiciera la computadora si detecta un correo electrónico no deseado: eliminarlo automáticamente, moverlo a un archivo diferente o simplemente resaltarlo en la pantalla?"
   ]
  },
  {
   "cell_type": "markdown",
   "metadata": {
    "collapsed": true
   },
   "source": [
    "#### Respuesta:\n",
    "\n",
    "Existen muchos factores que juegan un papel importante al momento de identificar si un correo es basura o no, \n",
    "como pueden ser ciertas palabras, caracteres, direcciones IP, el remitente que envío el correo, etc.\n",
    "\n",
    "Disponiendo de una base de datos un filtro computacional podrá actuar para clasificar un correo como spam o no.\n",
    "Cuando se recibe un nuevo correo, el análisis consiste en descomponer el texto en palabras y se seleccionan \n",
    "las más relevantes, las cuales el filtro procesará calculando la probabilidad de que el correo que hemos recibido\n",
    "sea spam o no.Si la probabilidad supera un umbral establecido se considerará spam. \n",
    "\n",
    "Lo ideal al momento de detectar un correo basura, sería aprovechar este resultado de alguna manera, por ello no sería\n",
    "conveniente eliminarlo, aunque sea la primera idea que cualquier persona desearía considerar, ya que se estaría \n",
    "descartando ciertos patrones encontrados al momento de analizar el correo y los cuales lo clasifican como un spam.\n",
    "Por lo tanto la decisión correcta sería clasificarlo como correo basura y el sistema aprenda de esta manera analizando \n",
    "el correo nuevamente como buscar la cantidad de veces que aparece una palabra en dicho correo y que sirva como un patrón\n",
    "para una futura toma de decisiones.\n",
    "\n"
   ]
  },
  {
   "cell_type": "markdown",
   "metadata": {},
   "source": [
    "4 .Digamos que se nos da la tarea de construir un taxi automatizado. Define las restricciones. ¿Cuáles son las entradas? ¿Cuál es la salida? ¿Cómo podemos comunicarnos con el pasajero? ¿Necesitamos comunicarnos con los otros taxis automatizados, es decir, necesitamos un \"lenguaje\"?"
   ]
  },
  {
   "cell_type": "markdown",
   "metadata": {
    "collapsed": true
   },
   "source": [
    "#### Respuesta:\n",
    "\n",
    "Si se desearía construir un sistema de taxi automatizado se debería tener en cuenta ciertos factores como la\n",
    "evaluación de la condición del conductor o la clasificación de escenarios de conducción a través de la fusión\n",
    "de datos de diferentes sensores externos e internos, como lidares, radares, cámaras o el IoT (Internet of Things).\n",
    "En particular un taxi automatizado debería ser capaz de recoger a un pasajero y conducirlo a un destino.\n",
    "Debería tener algún sistema de posicionamiento (GPS / GIS) y debe tener otros sensores (cámaras) para poder detectar\n",
    "coches, peatones, obstáculos en el camino, etc. La salida debe ser la secuencia de acciones para llegar al destino\n",
    "en el menor tiempo posible con ningún inconveniente para el pasajero.\n",
    "El taxi automatizado necesitaría comunicarse con el pasajero para recibir instrucciones y también puede tener\n",
    "que interactuar con otros taxis automatizados para intercambiar información sobre el tráfico vial o la programación,\n",
    "balanceo de carga, etc.\n",
    "\n"
   ]
  },
  {
   "cell_type": "markdown",
   "metadata": {},
   "source": [
    "5 .En el análisis de la cesta  de la compra, queremos encontrar la dependencia entre dos elementos X e Y. Dada una base de datos de transacciones de clientes, ¿cómo podemos encontrar estas dependencias? ¿Cómo generalizaríamos esto a más de dos ítems?"
   ]
  },
  {
   "cell_type": "markdown",
   "metadata": {
    "collapsed": true
   },
   "source": [
    "#### Respuesta:\n",
    "\n",
    "En el análisis de cesta de compra, donde deseamos encontrar la dependencia entre dos items \"X\" y \"Y\", se debe considerar\n",
    "lo que se conoce como reglas de asociación, la cual es una implicación de la forma X -> Y y que define la relación entre\n",
    "dos conjuntos de elementos que no tienen elementos en común y que significa que si tenemos un item X en una transacción\n",
    "(llamese transacción a un conjunto de elementos no nulos identificados con un id único) entonces podemos tener Y en la\n",
    "misma transacción, además debemos definir dos términos importantes:\n",
    "Confianza de una regla X -> Y :\n",
    "\n",
    "Confianza $(X -> Y) = P(Y|X) = P(X,Y)/P(X)$ = (#Clientes que compraron X e Y)/(#Clientes que compraron X)\n",
    "\n",
    "Soporte de una regla $X -> Y$ :\n",
    "\n",
    "Soporte $(X -> Y) = P(X,Y) = (#Clientes que compraron X e Y)/(#Clientes)$\n",
    "\n",
    "Para ser capaces de decir que la regla se cumple con suficiente confianza, este valor debe ser cercano al valor de 1\n",
    "y suficientemente más largo que P(Y), la probabilidad promedio que compra el item Y. Además estamos interesados en \n",
    "maximizar el soporte de la regla, ya que si incluso hubiera una dependencia con una gran valor de confianza, si el \n",
    "número de tales clientes es pequeño, la regla sería inútil. EL soporte indica la importancia estadística de la regla \n",
    "mientras que la confianza indica la fuerza de la regla. Los valores mínimos de la confianza y soporte son establecidos \n",
    "por la compañia, y todas las reglas con altos valores de confianza y soporte son buscados en la base de datos.\n",
    "Luego, estas fórmulas para el cálculo de la confianza y el soporte de una regla pueden ser generalizadas para más de \n",
    "dos items, donde X e Y son dos conjuntos disjuntos de items, digamos por ejemplo que P(Y|X,Z) es un conjunto de tres\n",
    "items más importante que un conjunto de dos items. Debido a que una base de datos de ventas es generalmente grande, \n",
    "se desea encontrar las dependencias entre los items recorriendo la base de datos el menor número de veces posibles.\n",
    "\n"
   ]
  },
  {
   "cell_type": "markdown",
   "metadata": {},
   "source": [
    "6 .En un periódico , encuentra cinco ejemplos de noticias para cada categoría de política, deportes y artes. Revisa estos informes y encuentra las palabras que se usan frecuentemente para cada categoría, lo que te puede ayudarle a discriminar entre diferentes categorías.\n",
    "\n",
    "Por ejemplo, es probable que un reportaje sobre política incluya palabras como *gobierno*, *recesión*, *congreso*, etc., mientras que un reportaje sobre las artes puede incluir *álbum*, *lienzo* o *teatro* . También hay palabras como *meta* que son ambiguas."
   ]
  },
  {
   "cell_type": "markdown",
   "metadata": {
    "collapsed": true
   },
   "source": [
    "#### Respueta:\n",
    "\n",
    "######## Queria usar una pagina web de noticiero y analizar este con un codigo para cada tipo de noticia, Me estoy demorando en el web scraping en python... (falta terminar).\n",
    "\n",
    "\n",
    "Cuando se hace el web scraping de una pagina web se logra oberservar una cierta frecuencia alta de repeticion de una palabra de acuerdo al contexto en el que se analizo con respecto al tipo de noticia, este detalle deja a descubierto ciertas palabras muy usadas en ciertas noticias.\n",
    "existe un detalle al analizar esto, es que existe la alta frecuencia de repeticion de articulos que no aportan significado en su frecuencias para este analisis.\n",
    "Procediendo con el analisis de cada tipo de noticia\n"
   ]
  },
  {
   "cell_type": "markdown",
   "metadata": {},
   "source": [
    "7 . Sea  una imagen de rostro es una imagen 100 x 100, o un vector de 10.000 dimensiones. Si cambiamos la imagen de un píxel a la derecha, este será un vector muy diferente en el espacio de 10.000 dimensiones. ¿Cómo podemos construir reconocedores faciales que manejen a tales distorsiones?"
   ]
  },
  {
   "cell_type": "code",
   "execution_count": 7,
   "metadata": {
    "collapsed": true
   },
   "outputs": [],
   "source": [
    "# Tu respuesta"
   ]
  },
  {
   "cell_type": "markdown",
   "metadata": {},
   "source": [
    "8 . Tomemos, por ejemplo, la palabra \"máquina\". Escríbela diez veces. También pide a un amigo de tu equipo que escriba la palabra  diez veces. Analizando estas veinte imágenes, trata de encontrar características, tipos de trazos, curvaturas, bucles, cómo hacer los puntos y así sucesivamente, que discriminan su escritura a mano de la de su amigo."
   ]
  },
  {
   "cell_type": "markdown",
   "metadata": {
    "collapsed": true
   },
   "source": [
    "#### Respuesta:\n",
    "Se adjunta la imagen para su analisis. (\"Letra Derecha: Miguel. Letra Izquierda: Bitzer\")\n",
    "![Imagen](palabra_maquina.PNG \"Letra Derecha: Miguel. Letra Izquierda: Bitzer\")\n",
    "- Se logra notar ciertas diferencias pese a que ambos alumnos usan el mismo tipo de letra, como en la manera de escribir la letra \"m\" y la letra \"n\" siendo esta diferencia una de las notorias, donde se nota que el alumno miguel no tiende a completar una forma completa de la letra m a comparacion del otro alumno.\n",
    "- La forma de escribir la letra \"a\" en el alumno miguel tiende a ser mas ancha a comparacion de la letra \"a\" del alumno bitzer.\n",
    "- La forma de escribir la letra \"u\" en el alumno miguel es mas ancha a comparacion del otro alumno.\n",
    "- Se logra distinguir una tendencia del alumno miguel de escribir letras mas anchas, mas redondas al escribir a comparacion del alummno bitzer.\n",
    "\n",
    "En conclusion se puede decir que el alumno miguel usa curvas mas circulares al escribir y el alumno bitzer usa curvas mas alargadas, usa mas curvas ovaladas para escribir cada letra."
   ]
  },
  {
   "cell_type": "markdown",
   "metadata": {},
   "source": [
    "9 .Al estimar el precio de un automóvil usado, tiene más sentido estimar el porcentaje de depreciación sobre el precio original que estimar el precio absoluto. ¿Por qué?"
   ]
  },
  {
   "cell_type": "markdown",
   "metadata": {
    "collapsed": true
   },
   "source": [
    "#### Respuesta:\n",
    "sabiendo que el precio de un automovil sufre una depreciación que es menor al precio original $Precio_{original}>Precio_{Actual}$\n",
    "ademas sabiendo que $Depreciación = Precio_{original}-Precio_{Actual}$, entonces el porcentaje de depreciacion tendra la siguiente forma: $\\%Dep =\\frac{Depreciación}{Precio_{original}}100\\% = \\frac{Precio_{original}-Precio_{Actual}}{Precio_{original}}100\\%$ esto porcentaje con respecto al precio original, el porcentaje de depreciacion a lo largo del tiempo es calculable y predecible en una grafica $\\%Dep vs Tiempo$ y se lograga ver el cambio y una probable curva de ajuste para $\\%Dep$, sin embargo el precio absoluto guardaria imprecicion en la prediccion del precio actual a lo largo del tiempo, dado que el precio absoluto no guardaria la exactitud de la curva de $\\%Dep$ para predecir el precio actual."
   ]
  },
  {
   "cell_type": "markdown",
   "metadata": {},
   "source": [
    "10 .Los investigadores de ML a menudo prueban sus algoritmos usando dominios públicos de referencia. Un gran repositorio de tales dominios se puede encontrar en la siguiente dirección: [www.ics.uci.edu/~mlearn/MLRepository.html](www.ics.uci.edu/~mlearn/MLRepository.html). Echa un vistazo a estos datos y ver cómo difieren en el número de atributos, tipos de atributos, tamaños y así sucesivamente."
   ]
  },
  {
   "cell_type": "markdown",
   "metadata": {},
   "source": [
    "11 .Escribe un programa  que usará la fórmula de Bayes para calcular las probabilidades de clase en un dominio donde todos los atributos son discretos."
   ]
  },
  {
   "cell_type": "markdown",
   "metadata": {},
   "source": [
    "12 .¿Cómo calcularías las probabilidades de las clases de salida en un dominio donde algunos atributos son booleanos, otros discretos y otros continuos? Discute las posibilidades de combinar diferentes enfoques. Para el caso de atributos continuos, escribe un programa  que acepte los ejemplos de entrenamiento en la forma de una tabla por ejemplo.\n",
    "\n",
    "Aplica este programa a unos pocos dominios de referencia del repositorio UCI (escoja de aquellos donde todos los atributos son continuos) y observe que el programa tiene éxito en algunos dominios mejor que en otros."
   ]
  },
  {
   "cell_type": "markdown",
   "metadata": {},
   "source": [
    "#### Respuesta:\n",
    "La solución que se presenta a continuación aplica para datos discretos y continuos (en el caso de booleano \n",
    "se pasa a binario 0|1 y se hace discreto), ya que aplica la media y varianza\n",
    "la fuente es la siguiente:\n",
    "https://es.wikipedia.org/wiki/Clasificador_bayesiano_ingenuo#Estimaci.C3.B3n_de_par.C3.A1metros_y_modelo_de_eventos"
   ]
  },
  {
   "cell_type": "code",
   "execution_count": 69,
   "metadata": {
    "collapsed": false,
    "scrolled": true
   },
   "outputs": [
    {
     "name": "stdout",
     "output_type": "stream",
     "text": [
      "Para test = [3 1 1 1 2 1 2 1 2 2]\n",
      "Probabilidad de que sea beningno: 0.999999999055\n",
      "Probabilidad de que sea maligno: 9.44901047861e-10\n",
      "Valor real 2\n",
      "Valor predicho 2 Benigno\n",
      "\n",
      "Para test = [3 1 1 1 3 2 1 1 1 2]\n",
      "Probabilidad de que sea beningno: 0.999999999407\n",
      "Probabilidad de que sea maligno: 5.92841524667e-10\n",
      "Valor real 2\n",
      "Valor predicho 2 Benigno\n",
      "\n",
      "Para test = [2 1 1 1 2 1 1 1 1 2]\n",
      "Probabilidad de que sea beningno: 0.999999999945\n",
      "Probabilidad de que sea maligno: 5.52435730151e-11\n",
      "Valor real 2\n",
      "Valor predicho 2 Benigno\n",
      "\n",
      "Para test = [ 5 10 10  3  7  3  8 10  2  4]\n",
      "Probabilidad de que sea beningno: 1.07895676674e-67\n",
      "Probabilidad de que sea maligno: 1.0\n",
      "Valor real 4\n",
      "Valor predicho 4 Maligno\n",
      "\n",
      "Para test = [ 4  8  6  4  3  4 10  6  1  4]\n",
      "Probabilidad de que sea beningno: 2.30988791151e-33\n",
      "Probabilidad de que sea maligno: 1.0\n",
      "Valor real 4\n",
      "Valor predicho 4 Maligno\n",
      "\n",
      "Para test = [ 4  8  8  5  4  5 10  4  1  4]\n",
      "Probabilidad de que sea beningno: 1.11349811329e-38\n",
      "Probabilidad de que sea maligno: 1.0\n",
      "Valor real 4\n",
      "Valor predicho 4 Maligno\n",
      "\n"
     ]
    }
   ],
   "source": [
    "\n",
    "import numpy as np\n",
    "import pandas as pd\n",
    "names = [\"x1\",\"x2\",\"x3\",\"x4\",\"x5\",\"x6\",\"x7\",\"x8\",\"x9\",\"y\"]\n",
    "dataset = pd.read_csv(\"breast-cancer-wisconsin.data\", names = names)\n",
    "ldataset = len(dataset)\n",
    "# escogiendo un dato para hacer test de predicciones, las últimas 6 filas para este caso\n",
    "test = dataset.values[-6:,:]\n",
    "dataset = dataset.head(ldataset-6)\n",
    "ldataset = len(dataset)\n",
    "# en la quinta columna hay 16 filas con valor '?', extraigo esa data para limpiarla\n",
    "#filter_dataset = dataset[dataset[\"x6\"]!='?']    \n",
    "\n",
    "\"\"\"\n",
    " #  Attribute                     Domain\n",
    "   -- -----------------------------------------\n",
    "   1. Sample code number            id number ****** no lo tomo en cuenta\n",
    "   2. Clump Thickness               1 - 10\n",
    "   3. Uniformity of Cell Size       1 - 10\n",
    "   4. Uniformity of Cell Shape      1 - 10\n",
    "   5. Marginal Adhesion             1 - 10\n",
    "   6. Single Epithelial Cell Size   1 - 10\n",
    "   7. Bare Nuclei                   1 - 10\n",
    "   8. Bland Chromatin               1 - 10\n",
    "   9. Normal Nucleoli               1 - 10\n",
    "  10. Mitoses                       1 - 10\n",
    "  11. Class:                        (2 for benign, 4 for malignant)\n",
    "\"\"\"\n",
    "# funcion de densidad de probabilidad Gaussiana\n",
    "# prob(x) = 1/(\\sqrt(2*PI)*std_desv)*e^-((x-mean(x))^2/2*std_desv^2)\n",
    "# https://es.wikipedia.org/wiki/Clasificador_bayesiano_ingenuo#Estimaci.C3.B3n_de_par.C3.A1metros_y_modelo_de_eventos\n",
    "def calProb(x, mean, stdev):\n",
    "    return (1 / (np.sqrt(2*np.pi) * stdev)) * np.exp(-(np.power(x-mean,2)/(2*np.power(stdev,2))))\n",
    "\n",
    "# probabilidad de clase\n",
    "# ProbClase(class=2) = P(class=2)*P(x|class=2)\n",
    "# P(class=2) = len(class=2)/len(total)\n",
    "# P(x|class=2) = P(x1|class)*P(x2|class)*P(x3|class)...\n",
    "\n",
    "# Separando los benignos de malignos\n",
    "# P(class=2) | benign \n",
    "y_2 = dataset[dataset[\"y\"]==2]\n",
    "# P(class=4) | malignant\n",
    "y_4 = dataset[dataset[\"y\"]==4]\n",
    "\n",
    "# Requisitos para calProb (means and stdevs)\n",
    "p_2 = len(y_2)/ldataset # P(class=2)\n",
    "p_4 = len(y_4)/ldataset # P(class=4)\n",
    "mean_2 = np.mean(y_2) # medias cuando class = 2\n",
    "std_2 = np.std(y_2) # desviaciones cuando class = 2\n",
    "mean_4 = np.mean(y_4) # medias cuando class = 4\n",
    "std_4 = np.std(y_4) # desviaciones cuando class = 4\n",
    "\n",
    "# escogiendo un dato para hacer test de predicciones, las últimas 6 filas para este caso\n",
    "#test = dataset.values[-6:,:]\n",
    "for j in range(6):\n",
    "    print(\"Para test = \"+str(test[j]))\n",
    "    # Obteniendo prediccion\n",
    "    prob_2 = p_2\n",
    "    prob_4 = p_4\n",
    "    for i in range(dataset.shape[1]-1):\n",
    "        prob_2 = prob_2*calProb(test[j][i],mean_2[i],std_2[i])\n",
    "        prob_4 = prob_4*calProb(test[j][i],mean_4[i],std_4[i])\n",
    "\n",
    "    # Mostrando resultados\n",
    "    print(\"Probabilidad de que sea beningno: \"+str(prob_2/(prob_2+prob_4)))\n",
    "    print(\"Probabilidad de que sea maligno: \"+str(prob_4/(prob_2+prob_4)))\n",
    "    print(\"Valor real \"+str(test[j][-1]))\n",
    "    pred = \"2 Benigno\"\n",
    "    if prob_2<prob_4:\n",
    "        pred = \"4 Maligno\"\n",
    "    print(\"Valor predicho \"+pred+\"\\n\")\n"
   ]
  },
  {
   "cell_type": "code",
   "execution_count": 68,
   "metadata": {
    "collapsed": false
   },
   "outputs": [
    {
     "name": "stdout",
     "output_type": "stream",
     "text": [
      "Para test = [4.8 3.4 1.6 0.2]\n",
      "Probabilidad de que sea beningno: 6.03614091015e-17\n",
      "Probabilidad de que sea maligno: 1.0\n",
      "Valor real Iris-setosa\n",
      "Valor predicho Iris Setosa\n",
      "\n",
      "Para test = [5.7 2.8 4.5 1.3]\n",
      "Probabilidad de que sea beningno: 0.998951957228\n",
      "Probabilidad de que sea maligno: 5.85691184955e-93\n",
      "Valor real Iris-versicolor\n",
      "Valor predicho Iris Versicolor\n",
      "\n",
      "Para test = [6.2 3.4 5.4 2.3]\n",
      "Probabilidad de que sea beningno: 4.75342913203e-07\n",
      "Probabilidad de que sea maligno: 5.28573205475e-206\n",
      "Valor real Iris-virginica\n",
      "Valor predicho Iris Virginica\n",
      "\n",
      "Para test = [5.7 2.9 4.2 1.3]\n",
      "Probabilidad de que sea beningno: 0.999656449564\n",
      "Probabilidad de que sea maligno: 4.15831512808e-80\n",
      "Valor real Iris-versicolor\n",
      "Valor predicho Iris Versicolor\n",
      "\n",
      "Para test = [4.8 3.0 1.4 0.1]\n",
      "Probabilidad de que sea beningno: 5.3371782775e-18\n",
      "Probabilidad de que sea maligno: 1.0\n",
      "Valor real Iris-setosa\n",
      "Valor predicho Iris Setosa\n",
      "\n",
      "Para test = [5.1 3.3 1.7 0.5]\n",
      "Probabilidad de que sea beningno: 6.88568795984e-11\n",
      "Probabilidad de que sea maligno: 0.999999999931\n",
      "Valor real Iris-setosa\n",
      "Valor predicho Iris Setosa\n",
      "\n"
     ]
    }
   ],
   "source": [
    "\"\"\"\n",
    "12. Para el caso con valores discretos\n",
    "\"\"\"\n",
    "import numpy as np\n",
    "import pandas as pd\n",
    "from sklearn.model_selection import train_test_split\n",
    "names = [\"sl\",\"sw\",\"pl\",\"pw\",\"y\"]\n",
    "dataset = pd.read_csv(\"iris.data\", names = names)\n",
    "x_train,x_test,y_train,y_test = train_test_split(dataset.values[:,:-1],dataset.values[:,-1],test_size=6)\n",
    "\"\"\"\n",
    "1. sepal length in cm\n",
    "2. sepal width in cm\n",
    "3. petal length in cm\n",
    "4. petal width in cm\n",
    "5. class:\n",
    "-- Iris Setosa\n",
    "-- Iris Versicolour\n",
    "-- Iris Virginica\n",
    "\"\"\"\n",
    "ldataset = len(dataset)\n",
    "# escogiendo un dato para hacer test de predicciones, las últimas 6 filas para este caso\n",
    "\n",
    "test = dataset.values[-6:,:]\n",
    "dataset = dataset.head(ldataset-6) ## for train\n",
    "\n",
    "ldataset = len(y_train)\n",
    "y_a = x_train[y_train==\"Iris-versicolor\"]\n",
    "y_b = x_train[y_train==\"Iris-setosa\"]\n",
    "y_c = x_train[y_train==\"Iris-virginica\"]\n",
    "#conversion a float\n",
    "y_a = np.array(y_a,dtype=np.float32)\n",
    "y_b = np.array(y_b,dtype=np.float32)\n",
    "y_c = np.array(y_c,dtype=np.float32)\n",
    "\n",
    "# Requisitos para calProb (means and stdevs)\n",
    "p_a = len(y_a)/ldataset # P(class=2)\n",
    "p_b = len(y_b)/ldataset # P(class=4)\n",
    "p_c = len(y_c)/ldataset # P(class=4)\n",
    "mean_a = np.mean(y_a,axis=0) \n",
    "std_a = np.std(y_a,axis=0) \n",
    "mean_b = np.mean(y_b,axis=0) \n",
    "std_b = np.std(y_b,axis=0) \n",
    "mean_c = np.mean(y_c,axis=0) \n",
    "std_c = np.std(y_c,axis=0) \n",
    "\n",
    "\n",
    "# escogiendo un dato para hacer test de predicciones, las últimas 6 filas para este caso\n",
    "for j in range(6):\n",
    "    print(\"Para test = \"+str(x_test[j]))\n",
    "    # Obteniendo prediccion\n",
    "    prob_a = p_a\n",
    "    prob_b = p_b\n",
    "    prob_c = p_c\n",
    "    for i in range(dataset.shape[1]-1):\n",
    "        prob_a = prob_a*calProb(x_test[j][i],mean_a[i],std_a[i])\n",
    "        prob_b = prob_b*calProb(x_test[j][i],mean_b[i],std_b[i])\n",
    "        prob_c = prob_c*calProb(x_test[j][i],mean_c[i],std_c[i])\n",
    "\n",
    "    # Mostrando resultados\n",
    "    print(\"Probabilidad de que sea beningno: \"+str(prob_a/(prob_a+prob_b+prob_c)))\n",
    "    print(\"Probabilidad de que sea maligno: \"+str(prob_b/(prob_a+prob_b+prob_c)))\n",
    "    print(\"Valor real \"+str(y_test[j]))\n",
    "    pred = \"Iris Versicolor\"\n",
    "    #a ver b set c vir\n",
    "    if prob_a<prob_b or prob_a<prob_c:\n",
    "        if prob_b<prob_c:\n",
    "            pred = \"Iris Virginica\"\n",
    "        else:\n",
    "            pred = \"Iris Setosa\"\n",
    "    print(\"Valor predicho \"+pred+\"\\n\")"
   ]
  },
  {
   "cell_type": "markdown",
   "metadata": {},
   "source": [
    "13 .Ajuste un modelo lineal al conjunto de datos de deuda de préstamos estudiantiles de los Estados Unidos  llamado `student_debt.csv`, resolviendo el problema de mínimos cuadrados de regresión lineal asociado. Si esta tendencia lineal continua, ¿cuál será la deuda total del estudiante en el año 2050?"
   ]
  },
  {
   "cell_type": "code",
   "execution_count": 87,
   "metadata": {
    "collapsed": false
   },
   "outputs": [
    {
     "name": "stdout",
     "output_type": "stream",
     "text": [
      "Valores Reales: [ 0.97  0.43  1.03]\n",
      "Valores Predichos: [ 0.96348719  0.41724976  1.02775042]\n",
      "En el año 2050 la deuda será: [ 3.93566146] trillones de dolares\n"
     ]
    },
    {
     "data": {
      "image/png": "[encoded data removed]",
      "text/plain": [
       "<matplotlib.figure.Figure at 0x7f2fcba5e550>"
      ]
     },
     "metadata": {},
     "output_type": "display_data"
    }
   ],
   "source": [
    "import seaborn as sns\n",
    "import matplotlib.pyplot as plt\n",
    "from sklearn.linear_model import LinearRegression\n",
    "sns.set()\n",
    "dataset = pd.read_csv(\"student_debt.csv\")\n",
    "x_train,x_test,y_train,y_test = train_test_split(dataset.values[:,:-1],dataset.values[:,-1],test_size=3)\n",
    "linreg = LinearRegression()\n",
    "linreg.fit(x_train, y_train)\n",
    "y_pred = linreg.predict(x_test)\n",
    "print(\"Valores Reales: \"+str(y_test)+\"\\nValores Predichos: \"+str(y_pred))\n",
    "print(\"En el año 2050 la deuda será: \"+str(linreg.predict(2050))+\" trillones de dolares\")\n",
    "sns.lmplot(x=\"Quarter\", y=\" Total Debt (in trillions $)\", data=dataset, order = 1)#, fit_reg=False)\n",
    "plt.show()"
   ]
  },
  {
   "cell_type": "markdown",
   "metadata": {},
   "source": [
    "14 . La función de costo de mínimos cuadrados para una regresión lineal se puede escribir de manera compacta como:\n",
    "\n",
    "$$\n",
    "g(\\hat{w}) = \\sum_{p =1}^{P}\\biggl(\\hat{x}_p^T\\hat{w} - y_p \\biggr)^2,\n",
    "$$\n",
    "\n",
    "es una función cuadrática convexa. "
   ]
  },
  {
   "cell_type": "code",
   "execution_count": 17,
   "metadata": {
    "collapsed": true
   },
   "outputs": [],
   "source": [
    "# Tu respuesta"
   ]
  },
  {
   "cell_type": "markdown",
   "metadata": {},
   "source": [
    "15 (Watt-Borhani-Katsaggelos). Gordon Moore, cofundador de la corporación Intel, predijo en un artículo de 1965, que el número de transistores en un circuito integrado se duplicaría aproximadamente cada dos años. Esta conjetura, referida en la actualidad como la ley de Moore, ha demostrado ser lo suficientemente precisa en las últimas cinco décadas.\n",
    "\n",
    "Dado que el poder de procesamiento de las computadoras está directamente relacionado con el número de transistores en sus CPU, la ley de Moore proporciona un modelo de tendencia para predecir el poder de cálculo de futuros microprocesadores.\n",
    "\n",
    "La Figura siguiente muestra los recuentos de transistores de varios microprocesadores en comparación con el año en que fueron liberados, comenzando desde Intel 4004 en 1971 con sólo 2300 transistores, hasta el Xeon E7 de Intel, introducido en 2014 con más de 4.300 millones de transistores.\n",
    "\n",
    "![](Moore-Law.png)\n",
    "\n",
    "\n",
    "* Propone una transformación de base exponencial basada en la ley de Moore, mostrada en la figura anteior , de modo que los datos de entrada y salida transformados estén relacionados linealmente.\n",
    "\n",
    "* Formula y minimice una función de costo de mínimos cuadrados para pesos apropiados y ajuste su modelo a los datos en el espacio de datos original. Los datos mostrados aquí se encuentran en el archivo `transistor-counts.csv`."
   ]
  },
  {
   "cell_type": "markdown",
   "metadata": {},
   "source": [
    "#### Respuesta:"
   ]
  },
  {
   "cell_type": "code",
   "execution_count": 56,
   "metadata": {
    "collapsed": false
   },
   "outputs": [
    {
     "data": {
      "image/png": "[encoded data removed]",
      "text/plain": [
       "<matplotlib.figure.Figure at 0x7f2fcb226828>"
      ]
     },
     "metadata": {},
     "output_type": "display_data"
    }
   ],
   "source": [
    "\"\"\"\n",
    "Esta pregunta no esta hecha solo hice el grafiquito, haganlo ustedes\n",
    "\"\"\"\n",
    "import seaborn as sns\n",
    "import matplotlib.pyplot as plt\n",
    "sns.set()\n",
    "transistor = pd.read_csv(\"transistor-counts.csv\")\n",
    "sns.lmplot(x=\"year\", y=\"transistors\", data=transistor, order = 5)#, fit_reg=False)\n",
    "plt.show()"
   ]
  },
  {
   "cell_type": "code",
   "execution_count": 1,
   "metadata": {
    "collapsed": true
   },
   "outputs": [],
   "source": [
    "# Tu respuesta"
   ]
  },
  {
   "cell_type": "markdown",
   "metadata": {},
   "source": [
    "16 .(Bishop). Dado un conjunto de puntos $\\{x_n\\}$, podemos definir la cápsula convexa como el conjunto de todos los puntos:\n",
    "\n",
    "$$\n",
    "x = \\sum_{n}\\alpha_nx_n\n",
    "$$\n",
    "\n",
    "donde $\\alpha_n \\geq 0$ y $\\sum_{n}\\alpha_n = 1$. Consideremos un segundo conjunto de puntos $\\{y_n \\}$ junto con su correspondiente cápsula convexa. Por definición los dos conjuntos de puntos son linealmente separables si existe un vector $\\hat{w}$ y un escalar $w_0$ tal que $\\hat{w}^Tx_n + w_0 > 0$ para todo $x_n$ y $\\hat{w}^Ty_n + w_0 < 0$ para todo $y_n$.\n",
    "\n",
    "\n",
    "Demuestre que si sus cápsulas convexas se intersecan, los dos conjuntos de puntos no pueden ser linealmente separables, y viceversa que si son linealmente separables, sus cápsulas convexas no se cruzan."
   ]
  },
  {
   "cell_type": "markdown",
   "metadata": {
    "collapsed": true
   },
   "source": [
    "# Demostración:     \n",
    "Sea:\n",
    "$$y\\left(x\\right)=\\hat{w}^Tx_n + w_0 > 0\\quad \\quad \\quad \\quad \\left( 1 \\right)\\\\\\\n",
    "y\\left(y\\right)=\\hat{w}^Ty_n + w_0 < 0\\quad \\quad \\quad \\quad$$\n",
    "Además se cumple :\n",
    "$$\n",
    "x = \\sum_{n}\\alpha_nx_n\n",
    "$$\n",
    "\n",
    "Reemplazando en (1):\n",
    "\n",
    "$$y\\left(x\\right)=\\hat{w}^T\\left(\\sum_{n}\\alpha_nx_n\\right) + w_0$$\n",
    "$$y\\left(x\\right)=\\sum_{n}\\alpha_n\\left(\\hat{w}^Tx_n\\right) + w_0$$\n",
    "$$y\\left(x\\right)=\\sum_{n}\\alpha_n\\left(\\hat{w}^Tx_n + w_0\\right/\\alpha_n)$$\n",
    "$$y\\left(x\\right)=\\sum_{n}\\alpha_n\\left(\\hat{w}^Tx_n + w_1\\right)$$\n",
    "De la misma forma para el conjunto de puntos $\\{y_n \\}$ :\n",
    "$$y\\left(y\\right)=\\sum_{n}\\beta_n\\left(\\hat{w}^Ty_n + w_1\\right)$$\n",
    "Luego si existe intersección entre las dos cápsulas convexas, entonces habrá al menos un punto que es común entre $\\{x_n \\}$ y $\\{y_n \\}$ ,\n",
    "Sea \"z\" este punto entonces :\n",
    "$$\n",
    "y\\left(z\\right)=\\sum_{n}\\alpha_n\\left(\\hat{w}^Tx_n + w_1\\right)=\\sum_{n}\\beta_n\\left(\\hat{w}^Ty_n + w_1\\right)\\quad \\quad \\quad \\quad \\left( 2 \\right)\n",
    "$$\n",
    "Además por condición del problema:\n",
    "$$\n",
    "y\\left(x\\right)=\\hat{w}^Tx_n + w_0 > 0\\quad \\quad \\quad \\quad\\\\\\ \\\\\\\n",
    "y\\left(z\\right)=\\hat{w}^Tz_n + w_0 < 0\\quad \\quad \\quad \\quad \\left( 3 \\right)\\\\\\\n",
    "$$\n",
    "De (2) y (3) se llega a una contradicción ya que no puede haber igualdad entre un número negativo y uno positivo.\n",
    "\n",
    "Por otra parte si los dos conjuntos $\\{x_n \\}$ y $\\{y_n \\}$ son linealmente separables entonces por condición del ejercicio :\n",
    "\n",
    "\\begin{equation*}\n",
    "y\\left(x\\right)=\\hat{w}^Tx_n + w_0 > 0\\quad \\quad \\quad \\quad\\\\\\ \\\\\\\n",
    "y\\left(y\\right)=\\hat{w}^Ty_n + w_0 < 0\\quad \\quad \\quad \\quad \\left( 4 \\right)\\\\\\\n",
    "\\end{equation*}\n",
    "De la misma manera supongamos que existe un punto \"z\" común entre los dos conjuntos, por lo tanto se cumpliría lo siguiente:\n",
    "\n",
    "$$y\\left(z\\right)=\\sum_{n}\\alpha_n\\left(\\hat{w}^Tx_n + w_1\\right)=\\sum_{n}\\beta_n\\left(\\hat{w}^Ty_n + w_1\\right)\\quad \\quad \\quad \\quad \\left( 5 \\right)$$\n",
    "\n",
    "Luego de (4) y (5) se llega también a una contradicción.\n",
    "\n"
   ]
  },
  {
   "cell_type": "markdown",
   "metadata": {},
   "source": [
    "17 .\n",
    "\n",
    "* Proporciona un ejemplo de un conjunto de datos bidimensional para el cual los datos son linealmente separables, pero no linealmente independientes.\n",
    " linealmente independiente.\n",
    "    \n",
    "* ¿Puedes encontrar un conjunto de datos que sea linealmente independiente pero no linealmente separable?."
   ]
  },
  {
   "cell_type": "code",
   "execution_count": 12,
   "metadata": {
    "collapsed": true
   },
   "outputs": [],
   "source": [
    "# Tu respuesta"
   ]
  },
  {
   "cell_type": "markdown",
   "metadata": {},
   "source": [
    "18 . Demuestra que para la regresión de mínimos cuadrados ordinarios y ortogonales  ajustados a los datos $(x_n, y_n), n = 1, \\dots, N$ las líneas ajustadas  pasan por el punto $\\sum_{n =1}^{N}(x_n, y_n)/N$."
   ]
  },
  {
   "cell_type": "markdown",
   "metadata": {
    "collapsed": true
   },
   "source": [
    "# Demostración:\n",
    "\n",
    "\\begin{equation*}\n",
    "\\frac { \\sum _{ n=1 }^{ N } (x_{ n },y_{ n }) }{ N } =\\left( \\sum _{ n=1 }^{ N }{ \\frac { x_{ n } }{ N }  } ,\\sum _{ n=1 }^{ N }{ \\frac { y_{ n } }{ N }  }  \\right)=\\left( \\overline { x } ,\\overline { y }  \\right)  \\\\\\\n",
    "\\end{equation*}\n",
    "\n",
    "Lo que se desea demostrar es que el punto que contiene a las medias respectivas tanto para \"x\" y \"y\" pasa por la recta\n",
    "de regresión.\n",
    "\n",
    "Por ajuste lineal por mínimos cuadrados:\n",
    "\n",
    "\\begin{equation*}\n",
    "\\sum_{n=1}^N\\left(y_n - \\left(a + b x_n \\right)\\right)^2 \\\\\\\n",
    "\\end{equation*}\n",
    "\n",
    "Para hallar el mínimo las derivadas parciales se igualan a cero :\n",
    "\n",
    "\\begin{equation*}\n",
    "\\sum _{ n=1 }^{ N }{ { \\left( { y }_{ n }-\\left( a+b{ x }_{ n } \\right)  \\right)  }=0 }\\quad \\quad \\quad \\quad \\quad \\quad \\quad \\quad \\quad \\left( 1 \\right)\n",
    "\\end{equation*}\n",
    "\\begin{equation*}\n",
    "\\sum _{ n=1 }^{ N }{ { { x }_{ n }\\left( { y }_{ n }-\\left( a+b{ x }_{ n } \\right)  \\right)  }=0 }\\quad \\quad \\quad \\quad \\quad \\quad \\quad \\quad  \\left( 2 \\right)  \\\\\\\n",
    "\\end{equation*}\n",
    "\n",
    "De la ecuación (1) :\n",
    "\n",
    "\\begin{equation*}\n",
    "\\sum _{ n=1 }^{ N }{ { { y }_{ n } } = a+b \\left( \\sum _{ n=1 }^{ N }{ { x }_{ n } }  \\right)  }\\quad \\quad \\quad \\quad \n",
    "\\quad \\quad \\quad \\left( 3 \\right)  \\\\\\\n",
    "\\end{equation*}\n",
    "\n",
    "Dividiendo la ecuación (3) por \"N\" :\n",
    "\n",
    "\\begin{equation*}\n",
    "\\sum _{ n=1 }^{ N }{ \\frac { { y }_{ n } }{ N } = a+b \\left( \\sum _{ n=1 }^{ N }{ \\frac { { x }_{ n } }{ N }  }  \\right)  }\\\\\\ \\\\\\\n",
    "\\end{equation*}\n",
    "\\begin{equation*}\n",
    "\\therefore \\quad \\quad \\quad \\overline { y } =\\quad a\\quad +\\quad b\\overline { x } \n",
    "\\end{equation*}\n"
   ]
  },
  {
   "cell_type": "markdown",
   "metadata": {},
   "source": [
    "19 . Proporciona un reporte del manejo que hace scikit learn acerca de los modelos de regresión lineal: http://scikit-learn.org/stable/modules/generated/sklearn.linear_model.LinearRegression.html. Muestra ejemplos.\n"
   ]
  },
  {
   "cell_type": "code",
   "execution_count": 14,
   "metadata": {
    "collapsed": true
   },
   "outputs": [],
   "source": [
    "# Tu reporte"
   ]
  },
  {
   "cell_type": "code",
   "execution_count": null,
   "metadata": {
    "collapsed": true
   },
   "outputs": [],
   "source": []
  }
 ],
 "metadata": {
  "kernelspec": {
   "display_name": "Python [Root]",
   "language": "python",
   "name": "Python [Root]"
  },
  "language_info": {
   "codemirror_mode": {
    "name": "ipython",
    "version": 2
   },
   "file_extension": ".py",
   "mimetype": "text/x-python",
   "name": "python",
   "nbconvert_exporter": "python",
   "pygments_lexer": "ipython2",
   "version": "2.7.12"
  }
 },
 "nbformat": 4,
 "nbformat_minor": 2
}
