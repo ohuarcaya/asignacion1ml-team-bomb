{
 "metadata": {
  "name": "",
  "signature": "sha256:cdc455c3ab94fbecc2a1f1e56cc87699505605b8b49201ff94a00ed3a6eea761"
 },
 "nbformat": 3,
 "nbformat_minor": 0,
 "worksheets": [
  {
   "cells": [
    {
     "cell_type": "markdown",
     "metadata": {},
     "source": [
      "#### Respuesta\n",
      "Los modelos de regresi\u00f3n lineal son la relacion de una variable end\u00f3gena(explicada) y una variable ex\u00f3gena(explicativa), la variable end\u00f3gena viene a ser la variable respuesta, pero estas se relacionan con la variable ex\u00f3gena la cual puede ser solo una variable o varias, siendo para el primer caso una regresi\u00f3n lineal y para el otro una regresi\u00f3n lineal multiple,  donde a su vez tambien esta los modelos regresion polinomial y regresi\u00f3n logistica entre otros modelos; todos estos modelos son casos especiales del modelo lineal generalizado, y estan desarrollados en Scikit Learn.\n",
      " \n",
      "El objetivo de los problemas de regresi\u00f3n es predecir el valor de una variable de respuesta continua.\n",
      " \n",
      "##### Regresion lineal :\n",
      "* sklearn.linear_model.LinearRegression :\n",
      "    Es un estimador, siendo este el que predice los valores con respecto a los data observada.\n",
      " \n",
      "* fit() y predict() :\n",
      "    En scikit-learn todos los estimadores tienen implementado los m\u00e9todos fit() y predict(); siendo el uso del primero para conocer los par\u00e1metros del modelo y el segundo para predecir el valor de una variable end\u00f3gena (variable respuesta).\n",
      "  \n",
      "En el siguiente ejemplo usamos la  https://archive.ics.uci.edu/ml/datasets/Wine, utilizamos la funcion train_test_split funcion que divide los datos en conjuntos de entrenamiento y prueba, donde por defecto se coge el 25% para la prueba.\n",
      " \n",
      "El modelo que usa es minimos cuadrados ordinarios o lineal menos cuadrados. El r-squared mide cuan bien los valores observados de las variables respuesta se explica por el modelo."
     ]
    },
    {
     "cell_type": "code",
     "collapsed": false,
     "input": [
      "from sklearn.linear_model import LinearRegression\n",
      "import pandas as pd\n",
      "import matplotlib.pylab as plt\n",
      "from sklearn.cross_validation import train_test_split\n",
      "\n",
      "df = pd.read_csv('winequality-red.csv')\n",
      "df.head()\n",
      "df.describe()\n",
      "\n",
      "\n",
      "%matplotlib inline\n",
      "import matplotlib.pylab as pltfor i in X:\n",
      "    print i\n",
      "    plt.scatter(df[i], df['quality'])\n",
      "    plt.show()"
     ],
     "language": "python",
     "metadata": {},
     "outputs": [
      {
       "output_type": "stream",
       "stream": "stdout",
       "text": [
        "Traceback (most recent call last):\n",
        "  File \"/usr/lib/python2.7/dist-packages/IPython/core/ultratb.py\", line 776, in structured_traceback\n",
        "    records = _fixed_getinnerframes(etb, context, tb_offset)\n"
       ]
      },
      {
       "output_type": "stream",
       "stream": "stderr",
       "text": [
        "ERROR: Internal Python error in the inspect module.\n",
        "Below is the traceback from this internal error.\n",
        "\n"
       ]
      },
      {
       "output_type": "stream",
       "stream": "stdout",
       "text": [
        "  File \"/usr/lib/python2.7/dist-packages/IPython/core/ultratb.py\", line 230, in wrapped\n",
        "    return f(*args, **kwargs)\n",
        "  File \"/usr/lib/python2.7/dist-packages/IPython/core/ultratb.py\", line 259, in _fixed_getinnerframes\n",
        "    records  = fix_frame_records_filenames(inspect.getinnerframes(etb, context))\n",
        "  File \"/usr/lib/python2.7/inspect.py\", line 1049, in getinnerframes\n",
        "    framelist.append((tb.tb_frame,) + getframeinfo(tb, context))\n",
        "  File \"/usr/lib/python2.7/inspect.py\", line 1009, in getframeinfo\n",
        "    filename = getsourcefile(frame) or getfile(frame)\n",
        "  File \"/usr/lib/python2.7/inspect.py\", line 454, in getsourcefile\n",
        "    if hasattr(getmodule(object, filename), '__loader__'):\n",
        "  File \"/usr/lib/python2.7/inspect.py\", line 483, in getmodule\n",
        "    file = getabsfile(object, _filename)\n",
        "  File \"/usr/lib/python2.7/inspect.py\", line 467, in getabsfile\n",
        "    return os.path.normcase(os.path.abspath(_filename))\n",
        "  File \"/usr/lib/python2.7/posixpath.py\", line 364, in abspath\n",
        "    cwd = os.getcwd()\n",
        "OSError: [Errno 2] No such file or directory\n"
       ]
      },
      {
       "output_type": "stream",
       "stream": "stderr",
       "text": [
        "\n",
        "Unfortunately, your original traceback can not be constructed.\n",
        "\n"
       ]
      },
      {
       "ename": "IOError",
       "evalue": "File winequality-red.csv does not exist",
       "output_type": "pyerr",
       "traceback": ""
      }
     ],
     "prompt_number": 19
    },
    {
     "cell_type": "code",
     "collapsed": false,
     "input": [
      "X = df[list(df.columns)[:-1]]\n",
      "y = df['quality']\n",
      "X_train, X_test, y_train, y_test = train_test_split(X, y)\n",
      "\n",
      "regressor = LinearRegression()\n",
      "regressor.fit(X_train, y_train)\n",
      "y_predictions = regressor.predict(X_test)\n",
      " print 'R-squared:', regressor.score(X_test, y_test)"
     ],
     "language": "python",
     "metadata": {},
     "outputs": [
      {
       "ename": "IndentationError",
       "evalue": "unexpected indent (<ipython-input-18-dd0c6bd31f63>, line 8)",
       "output_type": "pyerr",
       "traceback": [
        "\u001b[0;36m  File \u001b[0;32m\"<ipython-input-18-dd0c6bd31f63>\"\u001b[0;36m, line \u001b[0;32m8\u001b[0m\n\u001b[0;31m    print 'R-squared:', regressor.score(X_test, y_test)\u001b[0m\n\u001b[0m    ^\u001b[0m\n\u001b[0;31mIndentationError\u001b[0m\u001b[0;31m:\u001b[0m unexpected indent\n"
       ]
      }
     ],
     "prompt_number": 18
    },
    {
     "cell_type": "code",
     "collapsed": false,
     "input": [
      "%matplotlib inline\n",
      "import matplotlib.pylab as pltfor i in X:\n",
      "    print i\n",
      "    plt.scatter(df[i], wine['quality'])\n",
      "    plt.show()"
     ],
     "language": "python",
     "metadata": {},
     "outputs": []
    }
   ],
   "metadata": {}
  }
 ]
}